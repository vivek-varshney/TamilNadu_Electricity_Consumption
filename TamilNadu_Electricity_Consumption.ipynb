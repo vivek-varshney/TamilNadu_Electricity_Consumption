{
  "nbformat": 4,
  "nbformat_minor": 0,
  "metadata": {
    "colab": {
      "name": "TamilNadu_Electricity_Consumption.ipynb",
      "provenance": [],
      "collapsed_sections": [],
      "mount_file_id": "18QHUbtJTSEFNiIWG0moz4MWbddqtKBCC",
      "authorship_tag": "ABX9TyNIAOxQsuGFkwvoBCtVbInT",
      "include_colab_link": true
    },
    "kernelspec": {
      "display_name": "Python 3",
      "name": "python3"
    }
  },
  "cells": [
    {
      "cell_type": "markdown",
      "metadata": {
        "id": "view-in-github",
        "colab_type": "text"
      },
      "source": [
        "<a href=\"https://colab.research.google.com/github/vivek-varshney/TamilNadu_Electricity_Consumption/blob/main/TamilNadu_Electricity_Consumption.ipynb\" target=\"_parent\"><img src=\"https://colab.research.google.com/assets/colab-badge.svg\" alt=\"Open In Colab\"/></a>"
      ]
    },
    {
      "cell_type": "code",
      "metadata": {
        "id": "ooYLQwQ4zOvM"
      },
      "source": [
        "import warnings\r\n",
        "warnings.filterwarnings(\"ignore\")"
      ],
      "execution_count": 1,
      "outputs": []
    },
    {
      "cell_type": "code",
      "metadata": {
        "id": "wKL3g3QfUFix"
      },
      "source": [
        "import matplotlib.pyplot as plt\r\n",
        "import pandas as pd\r\n",
        "import numpy as np\r\n",
        "from sklearn.model_selection import train_test_split\r\n",
        "from sklearn.pipeline import Pipeline"
      ],
      "execution_count": 2,
      "outputs": []
    },
    {
      "cell_type": "code",
      "metadata": {
        "id": "vQnhqa1eUQJd"
      },
      "source": [
        "doc_file = open('/content/drive/MyDrive/data/eb.arff')\r\n",
        "#print(doc_file.read())"
      ],
      "execution_count": 3,
      "outputs": []
    },
    {
      "cell_type": "code",
      "metadata": {
        "colab": {
          "base_uri": "https://localhost:8080/",
          "height": 406
        },
        "id": "xNakXZEBbJCa",
        "outputId": "38d025ad-5cb2-4508-9bdc-be1a697d6204"
      },
      "source": [
        "file1 = pd.read_csv('/content/drive/MyDrive/data/eb.arff',header = None,skiprows=range(0,12), skipfooter=3, usecols=[0,1,2], names = ['kVA','kW','Type'])\r\n",
        "file1"
      ],
      "execution_count": 66,
      "outputs": [
        {
          "output_type": "execute_result",
          "data": {
            "text/html": [
              "<div>\n",
              "<style scoped>\n",
              "    .dataframe tbody tr th:only-of-type {\n",
              "        vertical-align: middle;\n",
              "    }\n",
              "\n",
              "    .dataframe tbody tr th {\n",
              "        vertical-align: top;\n",
              "    }\n",
              "\n",
              "    .dataframe thead th {\n",
              "        text-align: right;\n",
              "    }\n",
              "</style>\n",
              "<table border=\"1\" class=\"dataframe\">\n",
              "  <thead>\n",
              "    <tr style=\"text-align: right;\">\n",
              "      <th></th>\n",
              "      <th>kVA</th>\n",
              "      <th>kW</th>\n",
              "      <th>Type</th>\n",
              "    </tr>\n",
              "  </thead>\n",
              "  <tbody>\n",
              "    <tr>\n",
              "      <th>0</th>\n",
              "      <td>0.865936</td>\n",
              "      <td>0.143763</td>\n",
              "      <td>Bank</td>\n",
              "    </tr>\n",
              "    <tr>\n",
              "      <th>1</th>\n",
              "      <td>0.129804</td>\n",
              "      <td>0.088930</td>\n",
              "      <td>Bank</td>\n",
              "    </tr>\n",
              "    <tr>\n",
              "      <th>2</th>\n",
              "      <td>0.061801</td>\n",
              "      <td>0.552047</td>\n",
              "      <td>Bank</td>\n",
              "    </tr>\n",
              "    <tr>\n",
              "      <th>3</th>\n",
              "      <td>0.099116</td>\n",
              "      <td>0.848172</td>\n",
              "      <td>Bank</td>\n",
              "    </tr>\n",
              "    <tr>\n",
              "      <th>4</th>\n",
              "      <td>0.205704</td>\n",
              "      <td>0.624722</td>\n",
              "      <td>Bank</td>\n",
              "    </tr>\n",
              "    <tr>\n",
              "      <th>...</th>\n",
              "      <td>...</td>\n",
              "      <td>...</td>\n",
              "      <td>...</td>\n",
              "    </tr>\n",
              "    <tr>\n",
              "      <th>45776</th>\n",
              "      <td>0.815382</td>\n",
              "      <td>0.822821</td>\n",
              "      <td>University</td>\n",
              "    </tr>\n",
              "    <tr>\n",
              "      <th>45777</th>\n",
              "      <td>0.821317</td>\n",
              "      <td>0.439967</td>\n",
              "      <td>University</td>\n",
              "    </tr>\n",
              "    <tr>\n",
              "      <th>45778</th>\n",
              "      <td>0.523061</td>\n",
              "      <td>0.227777</td>\n",
              "      <td>University</td>\n",
              "    </tr>\n",
              "    <tr>\n",
              "      <th>45779</th>\n",
              "      <td>0.925497</td>\n",
              "      <td>0.386428</td>\n",
              "      <td>University</td>\n",
              "    </tr>\n",
              "    <tr>\n",
              "      <th>45780</th>\n",
              "      <td>0.763602</td>\n",
              "      <td>0.456028</td>\n",
              "      <td>University</td>\n",
              "    </tr>\n",
              "  </tbody>\n",
              "</table>\n",
              "<p>45781 rows × 3 columns</p>\n",
              "</div>"
            ],
            "text/plain": [
              "            kVA        kW        Type\n",
              "0      0.865936  0.143763        Bank\n",
              "1      0.129804  0.088930        Bank\n",
              "2      0.061801  0.552047        Bank\n",
              "3      0.099116  0.848172        Bank\n",
              "4      0.205704  0.624722        Bank\n",
              "...         ...       ...         ...\n",
              "45776  0.815382  0.822821  University\n",
              "45777  0.821317  0.439967  University\n",
              "45778  0.523061  0.227777  University\n",
              "45779  0.925497  0.386428  University\n",
              "45780  0.763602  0.456028  University\n",
              "\n",
              "[45781 rows x 3 columns]"
            ]
          },
          "metadata": {
            "tags": []
          },
          "execution_count": 66
        }
      ]
    },
    {
      "cell_type": "code",
      "metadata": {
        "colab": {
          "base_uri": "https://localhost:8080/"
        },
        "id": "Uwu0A-YnkCXV",
        "outputId": "d2191f72-72b1-40d2-ba38-fbfc08b34b56"
      },
      "source": [
        "file1.info()"
      ],
      "execution_count": null,
      "outputs": [
        {
          "output_type": "stream",
          "text": [
            "<class 'pandas.core.frame.DataFrame'>\n",
            "RangeIndex: 45781 entries, 0 to 45780\n",
            "Data columns (total 3 columns):\n",
            " #   Column  Non-Null Count  Dtype  \n",
            "---  ------  --------------  -----  \n",
            " 0   kVA     45781 non-null  float64\n",
            " 1   kW      45781 non-null  float64\n",
            " 2   Type    45781 non-null  object \n",
            "dtypes: float64(2), object(1)\n",
            "memory usage: 1.0+ MB\n"
          ],
          "name": "stdout"
        }
      ]
    },
    {
      "cell_type": "code",
      "metadata": {
        "id": "ZNrxympJ9JBa"
      },
      "source": [
        "grp_data = file1.groupby('Type')"
      ],
      "execution_count": 67,
      "outputs": []
    },
    {
      "cell_type": "code",
      "metadata": {
        "colab": {
          "base_uri": "https://localhost:8080/",
          "height": 677
        },
        "id": "q59Kw8_y3E9Y",
        "outputId": "8dddf113-a1a5-4484-e977-45f2c2c53a36"
      },
      "source": [
        "grp_data.first()"
      ],
      "execution_count": 68,
      "outputs": [
        {
          "output_type": "execute_result",
          "data": {
            "text/html": [
              "<div>\n",
              "<style scoped>\n",
              "    .dataframe tbody tr th:only-of-type {\n",
              "        vertical-align: middle;\n",
              "    }\n",
              "\n",
              "    .dataframe tbody tr th {\n",
              "        vertical-align: top;\n",
              "    }\n",
              "\n",
              "    .dataframe thead th {\n",
              "        text-align: right;\n",
              "    }\n",
              "</style>\n",
              "<table border=\"1\" class=\"dataframe\">\n",
              "  <thead>\n",
              "    <tr style=\"text-align: right;\">\n",
              "      <th></th>\n",
              "      <th>kVA</th>\n",
              "      <th>kW</th>\n",
              "    </tr>\n",
              "    <tr>\n",
              "      <th>Type</th>\n",
              "      <th></th>\n",
              "      <th></th>\n",
              "    </tr>\n",
              "  </thead>\n",
              "  <tbody>\n",
              "    <tr>\n",
              "      <th>AutomobileIndustry</th>\n",
              "      <td>0.491400</td>\n",
              "      <td>0.999933</td>\n",
              "    </tr>\n",
              "    <tr>\n",
              "      <th>Bank</th>\n",
              "      <td>0.865936</td>\n",
              "      <td>0.143763</td>\n",
              "    </tr>\n",
              "    <tr>\n",
              "      <th>BpoIndustry</th>\n",
              "      <td>0.777596</td>\n",
              "      <td>0.534225</td>\n",
              "    </tr>\n",
              "    <tr>\n",
              "      <th>CementIndustry</th>\n",
              "      <td>0.454860</td>\n",
              "      <td>0.817052</td>\n",
              "    </tr>\n",
              "    <tr>\n",
              "      <th>ChemicalIndustry</th>\n",
              "      <td>0.838096</td>\n",
              "      <td>0.972833</td>\n",
              "    </tr>\n",
              "    <tr>\n",
              "      <th>Farmers1</th>\n",
              "      <td>0.392965</td>\n",
              "      <td>0.911057</td>\n",
              "    </tr>\n",
              "    <tr>\n",
              "      <th>Farmers2</th>\n",
              "      <td>0.279811</td>\n",
              "      <td>0.343923</td>\n",
              "    </tr>\n",
              "    <tr>\n",
              "      <th>FertilizerIndustry</th>\n",
              "      <td>0.258009</td>\n",
              "      <td>0.397516</td>\n",
              "    </tr>\n",
              "    <tr>\n",
              "      <th>FoodIndustry</th>\n",
              "      <td>0.886415</td>\n",
              "      <td>0.525572</td>\n",
              "    </tr>\n",
              "    <tr>\n",
              "      <th>Handlooms</th>\n",
              "      <td>0.084437</td>\n",
              "      <td>0.100398</td>\n",
              "    </tr>\n",
              "    <tr>\n",
              "      <th>HealthCareResources</th>\n",
              "      <td>0.994346</td>\n",
              "      <td>0.997790</td>\n",
              "    </tr>\n",
              "    <tr>\n",
              "      <th>Hospital</th>\n",
              "      <td>0.353999</td>\n",
              "      <td>0.038218</td>\n",
              "    </tr>\n",
              "    <tr>\n",
              "      <th>Hostel</th>\n",
              "      <td>0.209903</td>\n",
              "      <td>0.121639</td>\n",
              "    </tr>\n",
              "    <tr>\n",
              "      <th>PoultryIndustry</th>\n",
              "      <td>0.670531</td>\n",
              "      <td>0.797338</td>\n",
              "    </tr>\n",
              "    <tr>\n",
              "      <th>Residential(Apartments)</th>\n",
              "      <td>0.073499</td>\n",
              "      <td>0.564250</td>\n",
              "    </tr>\n",
              "    <tr>\n",
              "      <th>Residential(individual)</th>\n",
              "      <td>0.257420</td>\n",
              "      <td>0.637402</td>\n",
              "    </tr>\n",
              "    <tr>\n",
              "      <th>Supermarket</th>\n",
              "      <td>0.809531</td>\n",
              "      <td>0.137311</td>\n",
              "    </tr>\n",
              "    <tr>\n",
              "      <th>TextileIndustry</th>\n",
              "      <td>0.967619</td>\n",
              "      <td>0.128357</td>\n",
              "    </tr>\n",
              "    <tr>\n",
              "      <th>Theatre</th>\n",
              "      <td>0.928575</td>\n",
              "      <td>0.883842</td>\n",
              "    </tr>\n",
              "    <tr>\n",
              "      <th>University</th>\n",
              "      <td>0.387013</td>\n",
              "      <td>0.741517</td>\n",
              "    </tr>\n",
              "  </tbody>\n",
              "</table>\n",
              "</div>"
            ],
            "text/plain": [
              "                              kVA        kW\n",
              "Type                                       \n",
              "AutomobileIndustry       0.491400  0.999933\n",
              "Bank                     0.865936  0.143763\n",
              "BpoIndustry              0.777596  0.534225\n",
              "CementIndustry           0.454860  0.817052\n",
              "ChemicalIndustry         0.838096  0.972833\n",
              "Farmers1                 0.392965  0.911057\n",
              "Farmers2                 0.279811  0.343923\n",
              "FertilizerIndustry       0.258009  0.397516\n",
              "FoodIndustry             0.886415  0.525572\n",
              "Handlooms                0.084437  0.100398\n",
              "HealthCareResources      0.994346  0.997790\n",
              "Hospital                 0.353999  0.038218\n",
              "Hostel                   0.209903  0.121639\n",
              "PoultryIndustry          0.670531  0.797338\n",
              "Residential(Apartments)  0.073499  0.564250\n",
              "Residential(individual)  0.257420  0.637402\n",
              "Supermarket              0.809531  0.137311\n",
              "TextileIndustry          0.967619  0.128357\n",
              "Theatre                  0.928575  0.883842\n",
              "University               0.387013  0.741517"
            ]
          },
          "metadata": {
            "tags": []
          },
          "execution_count": 68
        }
      ]
    },
    {
      "cell_type": "code",
      "metadata": {
        "colab": {
          "base_uri": "https://localhost:8080/",
          "height": 406
        },
        "id": "bRTeSgwCg9UR",
        "outputId": "31777036-7d7c-481c-db40-d8cff6d7a5df"
      },
      "source": [
        "file1[file1['Type'] =='Bank']"
      ],
      "execution_count": null,
      "outputs": [
        {
          "output_type": "execute_result",
          "data": {
            "text/html": [
              "<div>\n",
              "<style scoped>\n",
              "    .dataframe tbody tr th:only-of-type {\n",
              "        vertical-align: middle;\n",
              "    }\n",
              "\n",
              "    .dataframe tbody tr th {\n",
              "        vertical-align: top;\n",
              "    }\n",
              "\n",
              "    .dataframe thead th {\n",
              "        text-align: right;\n",
              "    }\n",
              "</style>\n",
              "<table border=\"1\" class=\"dataframe\">\n",
              "  <thead>\n",
              "    <tr style=\"text-align: right;\">\n",
              "      <th></th>\n",
              "      <th>kVA</th>\n",
              "      <th>kW</th>\n",
              "      <th>Type</th>\n",
              "    </tr>\n",
              "  </thead>\n",
              "  <tbody>\n",
              "    <tr>\n",
              "      <th>0</th>\n",
              "      <td>0.865936</td>\n",
              "      <td>0.143763</td>\n",
              "      <td>Bank</td>\n",
              "    </tr>\n",
              "    <tr>\n",
              "      <th>1</th>\n",
              "      <td>0.129804</td>\n",
              "      <td>0.088930</td>\n",
              "      <td>Bank</td>\n",
              "    </tr>\n",
              "    <tr>\n",
              "      <th>2</th>\n",
              "      <td>0.061801</td>\n",
              "      <td>0.552047</td>\n",
              "      <td>Bank</td>\n",
              "    </tr>\n",
              "    <tr>\n",
              "      <th>3</th>\n",
              "      <td>0.099116</td>\n",
              "      <td>0.848172</td>\n",
              "      <td>Bank</td>\n",
              "    </tr>\n",
              "    <tr>\n",
              "      <th>4</th>\n",
              "      <td>0.205704</td>\n",
              "      <td>0.624722</td>\n",
              "      <td>Bank</td>\n",
              "    </tr>\n",
              "    <tr>\n",
              "      <th>...</th>\n",
              "      <td>...</td>\n",
              "      <td>...</td>\n",
              "      <td>...</td>\n",
              "    </tr>\n",
              "    <tr>\n",
              "      <th>1405</th>\n",
              "      <td>0.801479</td>\n",
              "      <td>0.594975</td>\n",
              "      <td>Bank</td>\n",
              "    </tr>\n",
              "    <tr>\n",
              "      <th>1406</th>\n",
              "      <td>0.120187</td>\n",
              "      <td>0.297931</td>\n",
              "      <td>Bank</td>\n",
              "    </tr>\n",
              "    <tr>\n",
              "      <th>1407</th>\n",
              "      <td>0.942743</td>\n",
              "      <td>0.724593</td>\n",
              "      <td>Bank</td>\n",
              "    </tr>\n",
              "    <tr>\n",
              "      <th>1408</th>\n",
              "      <td>0.489427</td>\n",
              "      <td>0.841497</td>\n",
              "      <td>Bank</td>\n",
              "    </tr>\n",
              "    <tr>\n",
              "      <th>1409</th>\n",
              "      <td>0.470310</td>\n",
              "      <td>0.429366</td>\n",
              "      <td>Bank</td>\n",
              "    </tr>\n",
              "  </tbody>\n",
              "</table>\n",
              "<p>1410 rows × 3 columns</p>\n",
              "</div>"
            ],
            "text/plain": [
              "           kVA        kW  Type\n",
              "0     0.865936  0.143763  Bank\n",
              "1     0.129804  0.088930  Bank\n",
              "2     0.061801  0.552047  Bank\n",
              "3     0.099116  0.848172  Bank\n",
              "4     0.205704  0.624722  Bank\n",
              "...        ...       ...   ...\n",
              "1405  0.801479  0.594975  Bank\n",
              "1406  0.120187  0.297931  Bank\n",
              "1407  0.942743  0.724593  Bank\n",
              "1408  0.489427  0.841497  Bank\n",
              "1409  0.470310  0.429366  Bank\n",
              "\n",
              "[1410 rows x 3 columns]"
            ]
          },
          "metadata": {
            "tags": []
          },
          "execution_count": 8
        }
      ]
    },
    {
      "cell_type": "code",
      "metadata": {
        "id": "A7Igz-GSg4Vc"
      },
      "source": [
        "lst = ['Bank' , 'AutomobileIndustry' , 'BpoIndustry' , 'CementIndustry' , 'Farmers1' , 'Farmers2' , 'HealthCareResources' , 'TextileIndustry' , 'PoultryIndustry' , 'Residential(individual)' , 'Residential(Apartments)' , 'FoodIndustry' , 'ChemicalIndustry' , 'Handlooms' , 'FertilizerIndustry' ,'Hostel' ,'Hospital' , 'Supermarket', 'Theatre' , 'University']\r\n",
        "for i in lst:\r\n",
        "   globals()['data_%s' %i]= file1[file1['Type'] == i]\r\n",
        "  "
      ],
      "execution_count": null,
      "outputs": []
    },
    {
      "cell_type": "code",
      "metadata": {
        "colab": {
          "base_uri": "https://localhost:8080/"
        },
        "id": "OtPjuabr2FyK",
        "outputId": "da7b5adc-7b9c-4195-84fe-22bf2a669357"
      },
      "source": [
        "lst = ['Bank' , 'AutomobileIndustry' , 'BpoIndustry' , 'CementIndustry' , 'Farmers1' , 'Farmers2' , 'HealthCareResources' , 'TextileIndustry' , 'PoultryIndustry' , 'Residential(individual)' , 'Residential(Apartments)' , 'FoodIndustry' , 'ChemicalIndustry' , 'Handlooms' , 'FertilizerIndustry' ,'Hostel' ,'Hospital' , 'Supermarket', 'Theatre' , 'University']\r\n",
        "for i in lst:\r\n",
        "  print(i)\r\n",
        "  print(grp_data.get_group(i))\r\n",
        "  print('\\n')\r\n",
        "  "
      ],
      "execution_count": 69,
      "outputs": [
        {
          "output_type": "stream",
          "text": [
            "Bank\n",
            "           kVA        kW\n",
            "0     0.865936  0.143763\n",
            "1     0.129804  0.088930\n",
            "2     0.061801  0.552047\n",
            "3     0.099116  0.848172\n",
            "4     0.205704  0.624722\n",
            "...        ...       ...\n",
            "1405  0.801479  0.594975\n",
            "1406  0.120187  0.297931\n",
            "1407  0.942743  0.724593\n",
            "1408  0.489427  0.841497\n",
            "1409  0.470310  0.429366\n",
            "\n",
            "[1410 rows x 2 columns]\n",
            "\n",
            "\n",
            "AutomobileIndustry\n",
            "           kVA        kW\n",
            "1410  0.491400  0.999933\n",
            "1411  0.076526  0.281727\n",
            "1412  0.875158  0.464859\n",
            "1413  0.649913  0.193134\n",
            "1414  0.787578  0.669413\n",
            "...        ...       ...\n",
            "2808  0.044503  0.006286\n",
            "2809  0.718101  0.513088\n",
            "2810  0.295946  0.238140\n",
            "2811  0.513819  0.701231\n",
            "2812  0.127666  0.027033\n",
            "\n",
            "[1403 rows x 2 columns]\n",
            "\n",
            "\n",
            "BpoIndustry\n",
            "           kVA        kW\n",
            "2813  0.777596  0.534225\n",
            "2814  0.108622  0.457123\n",
            "2815  0.419066  0.642565\n",
            "2816  0.877316  0.048765\n",
            "2817  0.875277  0.775392\n",
            "...        ...       ...\n",
            "4205  0.670902  0.277423\n",
            "4206  0.625150  0.802957\n",
            "4207  0.707363  0.865572\n",
            "4208  0.440435  0.094475\n",
            "4209  0.455654  0.094511\n",
            "\n",
            "[1397 rows x 2 columns]\n",
            "\n",
            "\n",
            "CementIndustry\n",
            "           kVA        kW\n",
            "4210  0.454860  0.817052\n",
            "4211  0.283668  0.104793\n",
            "4212  0.607682  0.687070\n",
            "4213  0.186503  0.950589\n",
            "4214  0.076198  0.315549\n",
            "...        ...       ...\n",
            "5608  0.302950  0.945796\n",
            "5609  0.744124  0.889364\n",
            "5610  0.458833  0.483585\n",
            "5611  0.583678  0.625413\n",
            "5612  0.516497  0.566171\n",
            "\n",
            "[1403 rows x 2 columns]\n",
            "\n",
            "\n",
            "Farmers1\n",
            "           kVA        kW\n",
            "5613  0.392965  0.911057\n",
            "5614  0.116576  0.050001\n",
            "5615  0.382235  0.836797\n",
            "5616  0.396088  0.687679\n",
            "5617  0.919148  0.143219\n",
            "...        ...       ...\n",
            "7026  0.140550  0.430320\n",
            "7027  0.963776  0.038940\n",
            "7028  0.676173  0.765581\n",
            "7029  0.621436  0.667442\n",
            "7030  0.573488  0.127581\n",
            "\n",
            "[1418 rows x 2 columns]\n",
            "\n",
            "\n",
            "Farmers2\n",
            "           kVA        kW\n",
            "7031  0.279811  0.343923\n",
            "7032  0.668988  0.079484\n",
            "7033  0.074627  0.158310\n",
            "7034  0.412826  0.832441\n",
            "7035  0.060190  0.803371\n",
            "...        ...       ...\n",
            "8431  0.660617  0.713897\n",
            "8432  0.277997  0.307306\n",
            "8433  0.806643  0.038635\n",
            "8434  0.166742  0.482031\n",
            "8435  0.891472  0.186835\n",
            "\n",
            "[1405 rows x 2 columns]\n",
            "\n",
            "\n",
            "HealthCareResources\n",
            "           kVA        kW\n",
            "8436  0.994346  0.997790\n",
            "8437  0.085537  0.818912\n",
            "8438  0.605424  0.579330\n",
            "8439  0.183956  0.388374\n",
            "8440  0.115000  0.999847\n",
            "...        ...       ...\n",
            "9831  0.641690  0.842506\n",
            "9832  0.144787  0.310628\n",
            "9833  0.730908  0.573137\n",
            "9834  0.385856  0.839073\n",
            "9835  0.719056  0.215004\n",
            "\n",
            "[1400 rows x 2 columns]\n",
            "\n",
            "\n",
            "TextileIndustry\n",
            "            kVA        kW\n",
            "9836   0.967619  0.128357\n",
            "9837   0.585154  0.771813\n",
            "9838   0.129160  0.256072\n",
            "9839   0.861878  0.968039\n",
            "9840   0.241685  0.164418\n",
            "...         ...       ...\n",
            "11236  0.922856  0.636017\n",
            "11237  0.587439  0.194924\n",
            "11238  0.556052  0.202180\n",
            "11239  0.588549  0.767095\n",
            "11240  0.695652  0.073366\n",
            "\n",
            "[1405 rows x 2 columns]\n",
            "\n",
            "\n",
            "PoultryIndustry\n",
            "            kVA        kW\n",
            "11241  0.670531  0.797338\n",
            "11242  0.816919  0.324352\n",
            "11243  0.737773  0.912563\n",
            "11244  0.579424  0.159318\n",
            "11245  0.648443  0.716952\n",
            "...         ...       ...\n",
            "14124  0.238499  0.476921\n",
            "14125  0.523260  0.716705\n",
            "14126  0.987607  0.020417\n",
            "14127  0.524311  0.349815\n",
            "14128  0.671977  0.665072\n",
            "\n",
            "[2888 rows x 2 columns]\n",
            "\n",
            "\n",
            "Residential(individual)\n",
            "            kVA        kW\n",
            "14129  0.257420  0.637402\n",
            "14130  0.816048  0.289190\n",
            "14131  0.967560  0.570651\n",
            "14132  0.832972  0.531561\n",
            "14133  0.645395  0.357056\n",
            "...         ...       ...\n",
            "16991  0.818175  0.011036\n",
            "16992  0.692328  0.895858\n",
            "16993  0.865704  0.781351\n",
            "16994  0.796409  0.948087\n",
            "16995  0.702873  0.417705\n",
            "\n",
            "[2867 rows x 2 columns]\n",
            "\n",
            "\n",
            "Residential(Apartments)\n",
            "            kVA        kW\n",
            "16996  0.073499  0.564250\n",
            "16997  0.435350  0.922293\n",
            "16998  0.861143  0.463183\n",
            "16999  0.409813  0.404658\n",
            "17000  0.941084  0.607060\n",
            "...         ...       ...\n",
            "19875  0.812326  0.296257\n",
            "19876  0.480246  0.406320\n",
            "19877  0.469171  0.391233\n",
            "19878  0.489543  0.688440\n",
            "19879  0.898543  0.075223\n",
            "\n",
            "[2884 rows x 2 columns]\n",
            "\n",
            "\n",
            "FoodIndustry\n",
            "            kVA        kW\n",
            "19880  0.886415  0.525572\n",
            "19881  0.190250  0.868567\n",
            "19882  0.084154  0.057132\n",
            "19883  0.664155  0.511431\n",
            "19884  0.364297  0.370514\n",
            "...         ...       ...\n",
            "22780  0.239439  0.001969\n",
            "22781  0.819127  0.768508\n",
            "22782  0.306812  0.912348\n",
            "22783  0.800106  0.310410\n",
            "22784  0.752445  0.517348\n",
            "\n",
            "[2905 rows x 2 columns]\n",
            "\n",
            "\n",
            "ChemicalIndustry\n",
            "            kVA        kW\n",
            "22785  0.838096  0.972833\n",
            "22786  0.661669  0.742808\n",
            "22787  0.242910  0.534019\n",
            "22788  0.772750  0.230826\n",
            "22789  0.775509  0.962348\n",
            "...         ...       ...\n",
            "25610  0.721092  0.815254\n",
            "25611  0.463285  0.656013\n",
            "25612  0.536880  0.467762\n",
            "25613  0.526574  0.578975\n",
            "25614  0.254153  0.565048\n",
            "\n",
            "[2830 rows x 2 columns]\n",
            "\n",
            "\n",
            "Handlooms\n",
            "            kVA        kW\n",
            "25615  0.084437  0.100398\n",
            "25616  0.607075  0.147290\n",
            "25617  0.969804  0.815030\n",
            "25618  0.309530  0.215729\n",
            "25619  0.406427  0.851303\n",
            "...         ...       ...\n",
            "28497  0.744867  0.190266\n",
            "28498  0.789679  0.112506\n",
            "28499  0.622424  0.871282\n",
            "28500  0.509289  0.904140\n",
            "28501  0.126277  0.963286\n",
            "\n",
            "[2887 rows x 2 columns]\n",
            "\n",
            "\n",
            "FertilizerIndustry\n",
            "            kVA        kW\n",
            "28502  0.258009  0.397516\n",
            "28503  0.735481  0.302799\n",
            "28504  0.723949  0.421190\n",
            "28505  0.303045  0.853019\n",
            "28506  0.214270  0.494718\n",
            "...         ...       ...\n",
            "31373  0.452259  0.704699\n",
            "31374  0.460829  0.328940\n",
            "31375  0.081392  0.063830\n",
            "31376  0.029043  0.085421\n",
            "31377  0.768980  0.533061\n",
            "\n",
            "[2876 rows x 2 columns]\n",
            "\n",
            "\n",
            "Hostel\n",
            "            kVA        kW\n",
            "31378  0.209903  0.121639\n",
            "31379  0.449213  0.923672\n",
            "31380  0.901275  0.613126\n",
            "31381  0.417947  0.513267\n",
            "31382  0.617925  0.422795\n",
            "...         ...       ...\n",
            "34230  0.590761  0.939568\n",
            "34231  0.116292  0.033743\n",
            "34232  0.416013  0.338788\n",
            "34233  0.273875  0.230140\n",
            "34234  0.792680  0.834851\n",
            "\n",
            "[2857 rows x 2 columns]\n",
            "\n",
            "\n",
            "Hospital\n",
            "            kVA        kW\n",
            "34235  0.353999  0.038218\n",
            "34236  0.928920  0.933583\n",
            "34237  0.146105  0.322257\n",
            "34238  0.635033  0.531788\n",
            "34239  0.189148  0.567325\n",
            "...         ...       ...\n",
            "37136  0.000060  0.551586\n",
            "37137  0.159929  0.224598\n",
            "37138  0.714658  0.428417\n",
            "37139  0.181823  0.025848\n",
            "37140  0.165484  0.115312\n",
            "\n",
            "[2906 rows x 2 columns]\n",
            "\n",
            "\n",
            "Supermarket\n",
            "            kVA        kW\n",
            "37141  0.809531  0.137311\n",
            "37142  0.902146  0.033895\n",
            "37143  0.273018  0.674331\n",
            "37144  0.632562  0.838774\n",
            "37145  0.473303  0.729894\n",
            "...         ...       ...\n",
            "40010  0.162102  0.058251\n",
            "40011  0.980422  0.740384\n",
            "40012  0.194517  0.915404\n",
            "40013  0.669999  0.010414\n",
            "40014  0.468362  0.331530\n",
            "\n",
            "[2874 rows x 2 columns]\n",
            "\n",
            "\n",
            "Theatre\n",
            "            kVA        kW\n",
            "40015  0.928575  0.883842\n",
            "40016  0.793768  0.448442\n",
            "40017  0.600241  0.288745\n",
            "40018  0.858205  0.820906\n",
            "40019  0.638954  0.183202\n",
            "...         ...       ...\n",
            "42880  0.709342  0.318490\n",
            "42881  0.100602  0.486163\n",
            "42882  0.540792  0.539540\n",
            "42883  0.525805  0.349080\n",
            "42884  0.044033  0.377462\n",
            "\n",
            "[2870 rows x 2 columns]\n",
            "\n",
            "\n",
            "University\n",
            "            kVA        kW\n",
            "42885  0.387013  0.741517\n",
            "42886  0.666381  0.540013\n",
            "42887  0.195134  0.216037\n",
            "42888  0.881235  0.040389\n",
            "42889  0.230856  0.586216\n",
            "...         ...       ...\n",
            "45776  0.815382  0.822821\n",
            "45777  0.821317  0.439967\n",
            "45778  0.523061  0.227777\n",
            "45779  0.925497  0.386428\n",
            "45780  0.763602  0.456028\n",
            "\n",
            "[2896 rows x 2 columns]\n",
            "\n",
            "\n"
          ],
          "name": "stdout"
        }
      ]
    },
    {
      "cell_type": "code",
      "metadata": {
        "id": "U9hbyBlyBzDQ"
      },
      "source": [
        "Bank = grp_data.get_group('Bank')\r\n",
        "AutomobileIndustry = grp_data.get_group('AutomobileIndustry')\r\n",
        "BpoIndustry = grp_data.get_group('BpoIndustry')\r\n",
        "CementIndustry = grp_data.get_group('CementIndustry')\r\n",
        "Farmers1 = grp_data.get_group('Farmers1')\r\n",
        "Farmers2 = grp_data.get_group('Farmers2')\r\n",
        "HealthCareResources = grp_data.get_group('HealthCareResources')\r\n",
        "TextileIndustry = grp_data.get_group('TextileIndustry')\r\n",
        "PoultryIndustry = grp_data.get_group('PoultryIndustry')\r\n",
        "Residential_individual = grp_data.get_group('Residential(individual)') #\r\n",
        "Residential_Apartments = grp_data.get_group('Residential(Apartments)') #\r\n",
        "FoodIndustry = grp_data.get_group('FoodIndustry')\r\n",
        "ChemicalIndustry = grp_data.get_group('ChemicalIndustry')\r\n",
        "Handlooms = grp_data.get_group('Handlooms')\r\n",
        "FertilizerIndustry = grp_data.get_group('FertilizerIndustry')\r\n",
        "Hostel = grp_data.get_group('Hostel')\r\n",
        "Hospital = grp_data.get_group('Hospital')\r\n",
        "Theatre = grp_data.get_group('Theatre')\r\n",
        "Supermarket = grp_data.get_group('Supermarket')\r\n",
        "University = grp_data.get_group('University')\r\n"
      ],
      "execution_count": 85,
      "outputs": []
    },
    {
      "cell_type": "code",
      "metadata": {
        "colab": {
          "base_uri": "https://localhost:8080/",
          "height": 406
        },
        "id": "Vtv3UJ-0NZpa",
        "outputId": "f5cd869b-9119-45c2-fa90-bb7de3956f43"
      },
      "source": [
        "Bank"
      ],
      "execution_count": null,
      "outputs": [
        {
          "output_type": "execute_result",
          "data": {
            "text/html": [
              "<div>\n",
              "<style scoped>\n",
              "    .dataframe tbody tr th:only-of-type {\n",
              "        vertical-align: middle;\n",
              "    }\n",
              "\n",
              "    .dataframe tbody tr th {\n",
              "        vertical-align: top;\n",
              "    }\n",
              "\n",
              "    .dataframe thead th {\n",
              "        text-align: right;\n",
              "    }\n",
              "</style>\n",
              "<table border=\"1\" class=\"dataframe\">\n",
              "  <thead>\n",
              "    <tr style=\"text-align: right;\">\n",
              "      <th></th>\n",
              "      <th>kVA</th>\n",
              "      <th>kW</th>\n",
              "    </tr>\n",
              "  </thead>\n",
              "  <tbody>\n",
              "    <tr>\n",
              "      <th>0</th>\n",
              "      <td>0.865936</td>\n",
              "      <td>0.143763</td>\n",
              "    </tr>\n",
              "    <tr>\n",
              "      <th>1</th>\n",
              "      <td>0.129804</td>\n",
              "      <td>0.088930</td>\n",
              "    </tr>\n",
              "    <tr>\n",
              "      <th>2</th>\n",
              "      <td>0.061801</td>\n",
              "      <td>0.552047</td>\n",
              "    </tr>\n",
              "    <tr>\n",
              "      <th>3</th>\n",
              "      <td>0.099116</td>\n",
              "      <td>0.848172</td>\n",
              "    </tr>\n",
              "    <tr>\n",
              "      <th>4</th>\n",
              "      <td>0.205704</td>\n",
              "      <td>0.624722</td>\n",
              "    </tr>\n",
              "    <tr>\n",
              "      <th>...</th>\n",
              "      <td>...</td>\n",
              "      <td>...</td>\n",
              "    </tr>\n",
              "    <tr>\n",
              "      <th>1405</th>\n",
              "      <td>0.801479</td>\n",
              "      <td>0.594975</td>\n",
              "    </tr>\n",
              "    <tr>\n",
              "      <th>1406</th>\n",
              "      <td>0.120187</td>\n",
              "      <td>0.297931</td>\n",
              "    </tr>\n",
              "    <tr>\n",
              "      <th>1407</th>\n",
              "      <td>0.942743</td>\n",
              "      <td>0.724593</td>\n",
              "    </tr>\n",
              "    <tr>\n",
              "      <th>1408</th>\n",
              "      <td>0.489427</td>\n",
              "      <td>0.841497</td>\n",
              "    </tr>\n",
              "    <tr>\n",
              "      <th>1409</th>\n",
              "      <td>0.470310</td>\n",
              "      <td>0.429366</td>\n",
              "    </tr>\n",
              "  </tbody>\n",
              "</table>\n",
              "<p>1410 rows × 2 columns</p>\n",
              "</div>"
            ],
            "text/plain": [
              "           kVA        kW\n",
              "0     0.865936  0.143763\n",
              "1     0.129804  0.088930\n",
              "2     0.061801  0.552047\n",
              "3     0.099116  0.848172\n",
              "4     0.205704  0.624722\n",
              "...        ...       ...\n",
              "1405  0.801479  0.594975\n",
              "1406  0.120187  0.297931\n",
              "1407  0.942743  0.724593\n",
              "1408  0.489427  0.841497\n",
              "1409  0.470310  0.429366\n",
              "\n",
              "[1410 rows x 2 columns]"
            ]
          },
          "metadata": {
            "tags": []
          },
          "execution_count": 12
        }
      ]
    },
    {
      "cell_type": "code",
      "metadata": {
        "colab": {
          "base_uri": "https://localhost:8080/"
        },
        "id": "PYq5AwS0OB0x",
        "outputId": "3b9a9279-1213-4821-bce0-77a0080355be"
      },
      "source": [
        "Bank.mean(axis=0)"
      ],
      "execution_count": null,
      "outputs": [
        {
          "output_type": "execute_result",
          "data": {
            "text/plain": [
              "kVA    0.496780\n",
              "kW     0.494952\n",
              "dtype: float64"
            ]
          },
          "metadata": {
            "tags": []
          },
          "execution_count": 10
        }
      ]
    },
    {
      "cell_type": "code",
      "metadata": {
        "colab": {
          "base_uri": "https://localhost:8080/",
          "height": 287
        },
        "id": "rZYO078fO12Y",
        "outputId": "4d8b853a-a941-4b7e-ce22-57f378f1b4c3"
      },
      "source": [
        "Bank.describe()"
      ],
      "execution_count": null,
      "outputs": [
        {
          "output_type": "execute_result",
          "data": {
            "text/html": [
              "<div>\n",
              "<style scoped>\n",
              "    .dataframe tbody tr th:only-of-type {\n",
              "        vertical-align: middle;\n",
              "    }\n",
              "\n",
              "    .dataframe tbody tr th {\n",
              "        vertical-align: top;\n",
              "    }\n",
              "\n",
              "    .dataframe thead th {\n",
              "        text-align: right;\n",
              "    }\n",
              "</style>\n",
              "<table border=\"1\" class=\"dataframe\">\n",
              "  <thead>\n",
              "    <tr style=\"text-align: right;\">\n",
              "      <th></th>\n",
              "      <th>kVA</th>\n",
              "      <th>kW</th>\n",
              "    </tr>\n",
              "  </thead>\n",
              "  <tbody>\n",
              "    <tr>\n",
              "      <th>count</th>\n",
              "      <td>1410.000000</td>\n",
              "      <td>1410.000000</td>\n",
              "    </tr>\n",
              "    <tr>\n",
              "      <th>mean</th>\n",
              "      <td>0.496780</td>\n",
              "      <td>0.494952</td>\n",
              "    </tr>\n",
              "    <tr>\n",
              "      <th>std</th>\n",
              "      <td>0.288078</td>\n",
              "      <td>0.293800</td>\n",
              "    </tr>\n",
              "    <tr>\n",
              "      <th>min</th>\n",
              "      <td>0.001359</td>\n",
              "      <td>0.000238</td>\n",
              "    </tr>\n",
              "    <tr>\n",
              "      <th>25%</th>\n",
              "      <td>0.247386</td>\n",
              "      <td>0.238101</td>\n",
              "    </tr>\n",
              "    <tr>\n",
              "      <th>50%</th>\n",
              "      <td>0.492197</td>\n",
              "      <td>0.494332</td>\n",
              "    </tr>\n",
              "    <tr>\n",
              "      <th>75%</th>\n",
              "      <td>0.751706</td>\n",
              "      <td>0.749432</td>\n",
              "    </tr>\n",
              "    <tr>\n",
              "      <th>max</th>\n",
              "      <td>0.999996</td>\n",
              "      <td>0.999236</td>\n",
              "    </tr>\n",
              "  </tbody>\n",
              "</table>\n",
              "</div>"
            ],
            "text/plain": [
              "               kVA           kW\n",
              "count  1410.000000  1410.000000\n",
              "mean      0.496780     0.494952\n",
              "std       0.288078     0.293800\n",
              "min       0.001359     0.000238\n",
              "25%       0.247386     0.238101\n",
              "50%       0.492197     0.494332\n",
              "75%       0.751706     0.749432\n",
              "max       0.999996     0.999236"
            ]
          },
          "metadata": {
            "tags": []
          },
          "execution_count": 11
        }
      ]
    },
    {
      "cell_type": "code",
      "metadata": {
        "id": "6eGx6MBmIlnp"
      },
      "source": [
        ""
      ],
      "execution_count": null,
      "outputs": []
    },
    {
      "cell_type": "markdown",
      "metadata": {
        "id": "eqrfY9LCxbt0"
      },
      "source": [
        "#DATA Preprocesing"
      ]
    },
    {
      "cell_type": "code",
      "metadata": {
        "id": "9xrtllWHyDTh"
      },
      "source": [
        "X = Bank.iloc[:,0].values\r\n",
        "y = Bank.iloc[:,1].values"
      ],
      "execution_count": 86,
      "outputs": []
    },
    {
      "cell_type": "code",
      "metadata": {
        "id": "wKeSXHCtoyAZ"
      },
      "source": [
        "X = X.reshape(len(X),1)\r\n",
        "y = y.reshape(len(y),1)"
      ],
      "execution_count": 87,
      "outputs": []
    },
    {
      "cell_type": "code",
      "metadata": {
        "id": "8rcPLf3xxggX"
      },
      "source": [
        "from sklearn.model_selection import train_test_split\r\n",
        "X_train, X_test, y_train, y_test = train_test_split(X,y, test_size = 0.2, random_state = 10)"
      ],
      "execution_count": 88,
      "outputs": []
    },
    {
      "cell_type": "markdown",
      "metadata": {
        "id": "QI5I5YTnIsKT"
      },
      "source": [
        "#Now Train model in Regression"
      ]
    },
    {
      "cell_type": "code",
      "metadata": {
        "id": "dj02gkp2Gipd"
      },
      "source": [
        "from sklearn.linear_model import LinearRegression\r\n",
        "from sklearn.tree import DecisionTreeRegressor\r\n",
        "from sklearn.ensemble import RandomForestRegressor\r\n",
        "from sklearn.svm import SVR"
      ],
      "execution_count": 89,
      "outputs": []
    },
    {
      "cell_type": "code",
      "metadata": {
        "id": "wvVl6UmEdrW_"
      },
      "source": [
        "pipeline_lr = Pipeline([('Lr',LinearRegression())])\r\n",
        "pipeline_DT = Pipeline([('DT',DecisionTreeRegressor(random_state = 0))])\r\n",
        "pipeline_RF  =Pipeline([('RF',RandomForestRegressor(random_state = 0))])\r\n",
        "pipeline_SVR =Pipeline([('SVR',SVR(kernel='rbf'))])"
      ],
      "execution_count": 90,
      "outputs": []
    },
    {
      "cell_type": "code",
      "metadata": {
        "id": "-uWwwMJwdrUh"
      },
      "source": [
        "pipeline = [pipeline_lr,pipeline_DT,pipeline_RF,pipeline_SVR]\r\n",
        "\r\n",
        "for i in pipeline:\r\n",
        "  i.fit(X_train,y_train)"
      ],
      "execution_count": 91,
      "outputs": []
    },
    {
      "cell_type": "code",
      "metadata": {
        "id": "z6iaWoVidrRz"
      },
      "source": [
        "from sklearn.model_selection import cross_val_score\r\n",
        "def reg_scores(reg, independent, dependent):\r\n",
        "  scores = cross_val_score(reg, independent, dependent,\r\n",
        "                           scoring = 'neg_mean_squared_error',cv = 10, n_jobs=-1)\r\n",
        "  scores = np.sqrt(-scores)\r\n",
        "  print(\"Scores:\", scores)\r\n",
        "  print(\"Mean:\", scores.mean())\r\n",
        "  print(\"Standard deviation:\", scores.std())"
      ],
      "execution_count": 92,
      "outputs": []
    },
    {
      "cell_type": "code",
      "metadata": {
        "colab": {
          "base_uri": "https://localhost:8080/"
        },
        "id": "L_mtTyWTdrPW",
        "outputId": "f893462f-3730-4afe-e9dc-bde46ab77334"
      },
      "source": [
        "full_pipeline_str = ['Linear Regression','Dession Tree','Random Forest','SVC']\r\n",
        "\r\n",
        "from sklearn import metrics\r\n",
        "for i,j in zip(pipeline,full_pipeline_str):\r\n",
        "  y_pred = i.predict(X_test)\r\n",
        "  print(j,':-')\r\n",
        "  print('Mean Absolute Error:', metrics.mean_absolute_error(y_test, y_pred))  \r\n",
        "  print('Mean Squared Error:', metrics.mean_squared_error(y_test, y_pred))  \r\n",
        "  print('Root Mean Squared Error:', np.sqrt(metrics.mean_squared_error(y_test, y_pred)))\r\n",
        "  print('R2:', metrics.r2_score(y_test, y_pred))\r\n",
        "\r\n",
        "  reg_scores(i,X_train,y_train)\r\n",
        "  print('\\n\\n')"
      ],
      "execution_count": 93,
      "outputs": [
        {
          "output_type": "stream",
          "text": [
            "Linear Regression :-\n",
            "Mean Absolute Error: 0.2522613225871906\n",
            "Mean Squared Error: 0.08600233287902512\n",
            "Root Mean Squared Error: 0.2932615434710544\n",
            "R2: -0.0003308677785376357\n",
            "Scores: [0.31010708 0.28887324 0.29510013 0.29465392 0.29388296 0.28592649\n",
            " 0.27673284 0.28813861 0.30535204 0.3010818 ]\n",
            "Mean: 0.293984909668845\n",
            "Standard deviation: 0.009295612137558284\n",
            "\n",
            "\n",
            "\n",
            "Dession Tree :-\n",
            "Mean Absolute Error: 0.35341763330583065\n",
            "Mean Squared Error: 0.18639294425813313\n",
            "Root Mean Squared Error: 0.43173249154787174\n",
            "R2: -1.168018115738914\n",
            "Scores: [0.41663629 0.4418529  0.47000098 0.40272462 0.40842072 0.39444349\n",
            " 0.39919126 0.42962154 0.39259608 0.42021624]\n",
            "Mean: 0.41757041187006594\n",
            "Standard deviation: 0.023004751778409344\n",
            "\n",
            "\n",
            "\n",
            "Random Forest :-\n",
            "Mean Absolute Error: 0.29997417147893396\n",
            "Mean Squared Error: 0.13174679720231267\n",
            "Root Mean Squared Error: 0.36296941634566493\n",
            "R2: -0.5324048029931343\n",
            "Scores: [0.36365349 0.36530319 0.39558558 0.34890103 0.35473009 0.32939909\n",
            " 0.33658245 0.37206459 0.35382762 0.36383315]\n",
            "Mean: 0.35838802663394037\n",
            "Standard deviation: 0.017651977682405236\n",
            "\n",
            "\n",
            "\n",
            "SVC :-\n",
            "Mean Absolute Error: 0.25198866835616474\n",
            "Mean Squared Error: 0.086050622295449\n",
            "Root Mean Squared Error: 0.2933438635721719\n",
            "R2: -0.00089254316824805\n",
            "Scores: [0.3118224  0.29156294 0.29535399 0.2964124  0.29330948 0.28855175\n",
            " 0.27702432 0.29105865 0.30688643 0.30151758]\n",
            "Mean: 0.29534999300132225\n",
            "Standard deviation: 0.009287436211532647\n",
            "\n",
            "\n",
            "\n"
          ],
          "name": "stdout"
        }
      ]
    },
    {
      "cell_type": "markdown",
      "metadata": {
        "id": "eO7zj8df_RV0"
      },
      "source": [
        "Linear Regression"
      ]
    },
    {
      "cell_type": "code",
      "metadata": {
        "colab": {
          "base_uri": "https://localhost:8080/"
        },
        "id": "RPDNf55hoQOL",
        "outputId": "48a4e6d3-99fa-4cd5-8f7a-b09070f624b2"
      },
      "source": [
        "X_train.shape"
      ],
      "execution_count": 94,
      "outputs": [
        {
          "output_type": "execute_result",
          "data": {
            "text/plain": [
              "(1128, 1)"
            ]
          },
          "metadata": {
            "tags": []
          },
          "execution_count": 94
        }
      ]
    },
    {
      "cell_type": "code",
      "metadata": {
        "id": "iek_cPGloTrl"
      },
      "source": [
        "y_train=y_train.ravel()"
      ],
      "execution_count": 95,
      "outputs": []
    },
    {
      "cell_type": "code",
      "metadata": {
        "colab": {
          "base_uri": "https://localhost:8080/"
        },
        "id": "oFXJuuX0oV9b",
        "outputId": "88863c9a-3fae-4b08-e817-e4a6a6fb9826"
      },
      "source": [
        "y_train.shape"
      ],
      "execution_count": 96,
      "outputs": [
        {
          "output_type": "execute_result",
          "data": {
            "text/plain": [
              "(1128,)"
            ]
          },
          "metadata": {
            "tags": []
          },
          "execution_count": 96
        }
      ]
    },
    {
      "cell_type": "code",
      "metadata": {
        "colab": {
          "base_uri": "https://localhost:8080/"
        },
        "id": "yXmh0puOdrMG",
        "outputId": "5242ad53-1c9a-41af-ce80-74ebfe71f182"
      },
      "source": [
        "regressor = LinearRegression()\r\n",
        "regressor.fit(X_train, y_train)"
      ],
      "execution_count": 97,
      "outputs": [
        {
          "output_type": "execute_result",
          "data": {
            "text/plain": [
              "LinearRegression(copy_X=True, fit_intercept=True, n_jobs=None, normalize=False)"
            ]
          },
          "metadata": {
            "tags": []
          },
          "execution_count": 97
        }
      ]
    },
    {
      "cell_type": "code",
      "metadata": {
        "colab": {
          "base_uri": "https://localhost:8080/"
        },
        "id": "F9yu5Wru-H_1",
        "outputId": "f2cb9f67-48ac-45c1-c8d9-4fbd3c0c97c6"
      },
      "source": [
        "y_pred = regressor.predict(X_test)\r\n",
        "print('Root Mean Squared Error:', np.sqrt(metrics.mean_squared_error(y_test, y_pred)))\r\n",
        "print('R2:', metrics.r2_score(y_test, y_pred))"
      ],
      "execution_count": 98,
      "outputs": [
        {
          "output_type": "stream",
          "text": [
            "Root Mean Squared Error: 0.2932615434710544\n",
            "R2: -0.0003308677785376357\n"
          ],
          "name": "stdout"
        }
      ]
    },
    {
      "cell_type": "code",
      "metadata": {
        "colab": {
          "base_uri": "https://localhost:8080/",
          "height": 264
        },
        "id": "lVENANz6drGj",
        "outputId": "c8b68b98-6db2-4bd9-dc05-71bf1b8a412d"
      },
      "source": [
        "plt.scatter(X_test, y_test, color = 'red')\r\n",
        "plt.plot(X_train, regressor.predict(X_train), color = 'blue');"
      ],
      "execution_count": 99,
      "outputs": [
        {
          "output_type": "display_data",
          "data": {
            "image/png": "[encoded data removed]",
            "text/plain": [
              "<Figure size 432x288 with 1 Axes>"
            ]
          },
          "metadata": {
            "tags": [],
            "needs_background": "light"
          }
        }
      ]
    },
    {
      "cell_type": "code",
      "metadata": {
        "colab": {
          "base_uri": "https://localhost:8080/"
        },
        "id": "Jv9c5u4qIizU",
        "outputId": "7c1a7821-af1f-40e4-d09b-289ce1b71804"
      },
      "source": [
        "reg_scores(regressor,X_train,y_train)"
      ],
      "execution_count": 100,
      "outputs": [
        {
          "output_type": "stream",
          "text": [
            "Scores: [0.31010708 0.28887324 0.29510013 0.29465392 0.29388296 0.28592649\n",
            " 0.27673284 0.28813861 0.30535204 0.3010818 ]\n",
            "Mean: 0.293984909668845\n",
            "Standard deviation: 0.009295612137558284\n"
          ],
          "name": "stdout"
        }
      ]
    },
    {
      "cell_type": "markdown",
      "metadata": {
        "id": "66xIL9e5_ZeY"
      },
      "source": [
        "Random Forest"
      ]
    },
    {
      "cell_type": "code",
      "metadata": {
        "colab": {
          "base_uri": "https://localhost:8080/"
        },
        "id": "P7BOHqER_X3a",
        "outputId": "ae82266e-8b3e-4b64-a2b4-723ca378cd03"
      },
      "source": [
        "regressor = RandomForestRegressor(random_state = 0,n_estimators=50)\r\n",
        "regressor.fit(X_train, y_train)"
      ],
      "execution_count": 101,
      "outputs": [
        {
          "output_type": "execute_result",
          "data": {
            "text/plain": [
              "RandomForestRegressor(bootstrap=True, ccp_alpha=0.0, criterion='mse',\n",
              "                      max_depth=None, max_features='auto', max_leaf_nodes=None,\n",
              "                      max_samples=None, min_impurity_decrease=0.0,\n",
              "                      min_impurity_split=None, min_samples_leaf=1,\n",
              "                      min_samples_split=2, min_weight_fraction_leaf=0.0,\n",
              "                      n_estimators=50, n_jobs=None, oob_score=False,\n",
              "                      random_state=0, verbose=0, warm_start=False)"
            ]
          },
          "metadata": {
            "tags": []
          },
          "execution_count": 101
        }
      ]
    },
    {
      "cell_type": "code",
      "metadata": {
        "colab": {
          "base_uri": "https://localhost:8080/"
        },
        "id": "_aWLbcHBAO1m",
        "outputId": "00105158-f352-448a-b331-6a0ceb1639b4"
      },
      "source": [
        "y_pred = regressor.predict(X_test)\r\n",
        "print('Root Mean Squared Error:', np.sqrt(metrics.mean_squared_error(y_test, y_pred)))\r\n",
        "print('R2:', metrics.r2_score(y_test, y_pred))"
      ],
      "execution_count": 102,
      "outputs": [
        {
          "output_type": "stream",
          "text": [
            "Root Mean Squared Error: 0.3637594396358179\n",
            "R2: -0.5390827925853205\n"
          ],
          "name": "stdout"
        }
      ]
    },
    {
      "cell_type": "code",
      "metadata": {
        "colab": {
          "base_uri": "https://localhost:8080/",
          "height": 264
        },
        "id": "DlFG-xZyAUVi",
        "outputId": "84d1f0e9-b0b1-494c-b2a5-71daa8659b4d"
      },
      "source": [
        "plt.scatter(X_test, y_test, color = 'red')\r\n",
        "plt.scatter(X_train, regressor.predict(X_train), color = 'blue');"
      ],
      "execution_count": 103,
      "outputs": [
        {
          "output_type": "display_data",
          "data": {
            "image/png": "[encoded data removed]",
            "text/plain": [
              "<Figure size 432x288 with 1 Axes>"
            ]
          },
          "metadata": {
            "tags": [],
            "needs_background": "light"
          }
        }
      ]
    },
    {
      "cell_type": "code",
      "metadata": {
        "colab": {
          "base_uri": "https://localhost:8080/"
        },
        "id": "tMmiTT2GAYL-",
        "outputId": "b5d24001-06fe-4fd8-def5-25284ebfc2d2"
      },
      "source": [
        "reg_scores(regressor,X_train,y_train)"
      ],
      "execution_count": 104,
      "outputs": [
        {
          "output_type": "stream",
          "text": [
            "Scores: [0.36402275 0.36625059 0.39345472 0.35178281 0.35622373 0.32619422\n",
            " 0.33136587 0.37192128 0.35457196 0.3627388 ]\n",
            "Mean: 0.3578526726378793\n",
            "Standard deviation: 0.018308381207134967\n"
          ],
          "name": "stdout"
        }
      ]
    },
    {
      "cell_type": "markdown",
      "metadata": {
        "id": "Gm3jJYAbGEsL"
      },
      "source": [
        "SVR"
      ]
    },
    {
      "cell_type": "code",
      "metadata": {
        "colab": {
          "base_uri": "https://localhost:8080/"
        },
        "id": "LnCaM6ijA5X4",
        "outputId": "6c76ad4b-4a3b-4740-c98f-788b68f48952"
      },
      "source": [
        "regressor = SVR(kernel='rbf')\r\n",
        "regressor.fit(X_train, y_train)"
      ],
      "execution_count": 105,
      "outputs": [
        {
          "output_type": "execute_result",
          "data": {
            "text/plain": [
              "SVR(C=1.0, cache_size=200, coef0=0.0, degree=3, epsilon=0.1, gamma='scale',\n",
              "    kernel='rbf', max_iter=-1, shrinking=True, tol=0.001, verbose=False)"
            ]
          },
          "metadata": {
            "tags": []
          },
          "execution_count": 105
        }
      ]
    },
    {
      "cell_type": "code",
      "metadata": {
        "colab": {
          "base_uri": "https://localhost:8080/"
        },
        "id": "PyMAgTsEG-uE",
        "outputId": "ed7fde44-fc7c-41ca-9111-628d2b938d70"
      },
      "source": [
        "y_pred = regressor.predict(X_test)\r\n",
        "print('Root Mean Squared Error:', np.sqrt(metrics.mean_squared_error(y_test, y_pred)))\r\n",
        "print('R2:', metrics.r2_score(y_test, y_pred))"
      ],
      "execution_count": 106,
      "outputs": [
        {
          "output_type": "stream",
          "text": [
            "Root Mean Squared Error: 0.2933438635721719\n",
            "R2: -0.00089254316824805\n"
          ],
          "name": "stdout"
        }
      ]
    },
    {
      "cell_type": "code",
      "metadata": {
        "colab": {
          "base_uri": "https://localhost:8080/",
          "height": 264
        },
        "id": "xnVPQ38jG_P8",
        "outputId": "4de42d1d-ff22-426e-e6ed-0d00e56e020d"
      },
      "source": [
        "plt.scatter(X_test, y_test, color = 'red')\r\n",
        "plt.plot(X_train, regressor.predict(X_train), color = 'blue');"
      ],
      "execution_count": 107,
      "outputs": [
        {
          "output_type": "display_data",
          "data": {
            "image/png": "[encoded data removed]",
            "text/plain": [
              "<Figure size 432x288 with 1 Axes>"
            ]
          },
          "metadata": {
            "tags": [],
            "needs_background": "light"
          }
        }
      ]
    },
    {
      "cell_type": "code",
      "metadata": {
        "id": "xaMm8Alt0N_2"
      },
      "source": [
        ""
      ],
      "execution_count": null,
      "outputs": []
    },
    {
      "cell_type": "markdown",
      "metadata": {
        "id": "wepc2s3UJJzd"
      },
      "source": [
        "###Hyperparameter Tuning Using Grid SearchCV"
      ]
    },
    {
      "cell_type": "code",
      "metadata": {
        "colab": {
          "base_uri": "https://localhost:8080/"
        },
        "id": "NnAL_L4iHDKL",
        "outputId": "e1071c0a-3854-4932-cc77-1cf92ecb3bae"
      },
      "source": [
        "from sklearn.model_selection import GridSearchCV\r\n",
        "\r\n",
        "param = [{'kernel' : ['rbf', 'poly', 'sigmoid'],'C' : [0.25,0.5,0.75,1],'gamma' : [0.1, 0.2, 0.3, 0.4, 0.5, 0.6, 0.7, 0.8, 0.9]}]\r\n",
        "grid_search = GridSearchCV(estimator = regressor,\r\n",
        "                           param_grid = param,\r\n",
        "                           cv = 5,verbose = 2,\r\n",
        "                           n_jobs = -1) #use all process \r\n",
        "grid_search.fit(X_train, y_train)\r\n",
        "best_accuracy = grid_search.best_score_\r\n",
        "best_parameters = grid_search.best_params_\r\n",
        "print(\"Best Accuracy: {:.10f} %\".format(best_accuracy*100))\r\n",
        "print(\"Best Parameters:\", best_parameters)"
      ],
      "execution_count": 108,
      "outputs": [
        {
          "output_type": "stream",
          "text": [
            "Fitting 5 folds for each of 108 candidates, totalling 540 fits\n"
          ],
          "name": "stdout"
        },
        {
          "output_type": "stream",
          "text": [
            "[Parallel(n_jobs=-1)]: Using backend LokyBackend with 2 concurrent workers.\n",
            "[Parallel(n_jobs=-1)]: Done 128 tasks      | elapsed:    4.3s\n"
          ],
          "name": "stderr"
        },
        {
          "output_type": "stream",
          "text": [
            "Best Accuracy: -0.4794465413 %\n",
            "Best Parameters: {'C': 0.5, 'gamma': 0.1, 'kernel': 'poly'}\n"
          ],
          "name": "stdout"
        },
        {
          "output_type": "stream",
          "text": [
            "[Parallel(n_jobs=-1)]: Done 540 out of 540 | elapsed:   19.2s finished\n"
          ],
          "name": "stderr"
        }
      ]
    },
    {
      "cell_type": "markdown",
      "metadata": {
        "id": "-hPnogh5OEoz"
      },
      "source": [
        "now again train model with best values"
      ]
    },
    {
      "cell_type": "code",
      "metadata": {
        "colab": {
          "base_uri": "https://localhost:8080/"
        },
        "id": "yCRfNWY6OCU_",
        "outputId": "9a1f9e7d-3085-47b5-82e6-04b44241b3b7"
      },
      "source": [
        "regressor = SVR(kernel='poly',gamma=0.1, C=0.5)\r\n",
        "regressor.fit(X_train, y_train)"
      ],
      "execution_count": 109,
      "outputs": [
        {
          "output_type": "execute_result",
          "data": {
            "text/plain": [
              "SVR(C=0.5, cache_size=200, coef0=0.0, degree=3, epsilon=0.1, gamma=0.1,\n",
              "    kernel='poly', max_iter=-1, shrinking=True, tol=0.001, verbose=False)"
            ]
          },
          "metadata": {
            "tags": []
          },
          "execution_count": 109
        }
      ]
    },
    {
      "cell_type": "code",
      "metadata": {
        "colab": {
          "base_uri": "https://localhost:8080/"
        },
        "id": "uHWB6SQSOQLI",
        "outputId": "1f19b4a3-7af8-475e-9330-dfd938fd2250"
      },
      "source": [
        "y_pred = regressor.predict(X_test)\r\n",
        "print('Root Mean Squared Error:', np.sqrt(metrics.mean_squared_error(y_test, y_pred)))\r\n",
        "print('R2:', metrics.r2_score(y_test, y_pred))"
      ],
      "execution_count": 110,
      "outputs": [
        {
          "output_type": "stream",
          "text": [
            "Root Mean Squared Error: 0.2932512371036773\n",
            "R2: -0.00026055786925471836\n"
          ],
          "name": "stdout"
        }
      ]
    },
    {
      "cell_type": "code",
      "metadata": {
        "colab": {
          "base_uri": "https://localhost:8080/",
          "height": 264
        },
        "id": "zeZVM-AvOQ5t",
        "outputId": "767859e6-6eba-470f-94c7-34b5faf89403"
      },
      "source": [
        "plt.scatter(X_test, y_test, color = 'red')\r\n",
        "plt.scatter(X_train, regressor.predict(X_train), color = 'blue');"
      ],
      "execution_count": 111,
      "outputs": [
        {
          "output_type": "display_data",
          "data": {
            "image/png": "[encoded data removed]",
            "text/plain": [
              "<Figure size 432x288 with 1 Axes>"
            ]
          },
          "metadata": {
            "tags": [],
            "needs_background": "light"
          }
        }
      ]
    },
    {
      "cell_type": "code",
      "metadata": {
        "colab": {
          "base_uri": "https://localhost:8080/"
        },
        "id": "KLjlhMuX0D5_",
        "outputId": "0d4a8f4c-c15e-48ff-b522-35ae517bc7a7"
      },
      "source": [
        "reg_scores(regressor,X_train,y_train)"
      ],
      "execution_count": 112,
      "outputs": [
        {
          "output_type": "stream",
          "text": [
            "Scores: [0.31053862 0.28874848 0.29513188 0.29376665 0.29370567 0.28620857\n",
            " 0.27656625 0.2877524  0.30534818 0.30109432]\n",
            "Mean: 0.29388610072344734\n",
            "Standard deviation: 0.00940840936808707\n"
          ],
          "name": "stdout"
        }
      ]
    },
    {
      "cell_type": "markdown",
      "metadata": {
        "id": "OugmdRqIKdF3"
      },
      "source": [
        "AutomobileIndustry"
      ]
    },
    {
      "cell_type": "code",
      "metadata": {
        "colab": {
          "base_uri": "https://localhost:8080/",
          "height": 406
        },
        "id": "ijCrwW2wOoYA",
        "outputId": "a7189b71-2060-4413-b976-4025047c958b"
      },
      "source": [
        "AutomobileIndustry"
      ],
      "execution_count": 113,
      "outputs": [
        {
          "output_type": "execute_result",
          "data": {
            "text/html": [
              "<div>\n",
              "<style scoped>\n",
              "    .dataframe tbody tr th:only-of-type {\n",
              "        vertical-align: middle;\n",
              "    }\n",
              "\n",
              "    .dataframe tbody tr th {\n",
              "        vertical-align: top;\n",
              "    }\n",
              "\n",
              "    .dataframe thead th {\n",
              "        text-align: right;\n",
              "    }\n",
              "</style>\n",
              "<table border=\"1\" class=\"dataframe\">\n",
              "  <thead>\n",
              "    <tr style=\"text-align: right;\">\n",
              "      <th></th>\n",
              "      <th>kVA</th>\n",
              "      <th>kW</th>\n",
              "    </tr>\n",
              "  </thead>\n",
              "  <tbody>\n",
              "    <tr>\n",
              "      <th>1410</th>\n",
              "      <td>0.491400</td>\n",
              "      <td>0.999933</td>\n",
              "    </tr>\n",
              "    <tr>\n",
              "      <th>1411</th>\n",
              "      <td>0.076526</td>\n",
              "      <td>0.281727</td>\n",
              "    </tr>\n",
              "    <tr>\n",
              "      <th>1412</th>\n",
              "      <td>0.875158</td>\n",
              "      <td>0.464859</td>\n",
              "    </tr>\n",
              "    <tr>\n",
              "      <th>1413</th>\n",
              "      <td>0.649913</td>\n",
              "      <td>0.193134</td>\n",
              "    </tr>\n",
              "    <tr>\n",
              "      <th>1414</th>\n",
              "      <td>0.787578</td>\n",
              "      <td>0.669413</td>\n",
              "    </tr>\n",
              "    <tr>\n",
              "      <th>...</th>\n",
              "      <td>...</td>\n",
              "      <td>...</td>\n",
              "    </tr>\n",
              "    <tr>\n",
              "      <th>2808</th>\n",
              "      <td>0.044503</td>\n",
              "      <td>0.006286</td>\n",
              "    </tr>\n",
              "    <tr>\n",
              "      <th>2809</th>\n",
              "      <td>0.718101</td>\n",
              "      <td>0.513088</td>\n",
              "    </tr>\n",
              "    <tr>\n",
              "      <th>2810</th>\n",
              "      <td>0.295946</td>\n",
              "      <td>0.238140</td>\n",
              "    </tr>\n",
              "    <tr>\n",
              "      <th>2811</th>\n",
              "      <td>0.513819</td>\n",
              "      <td>0.701231</td>\n",
              "    </tr>\n",
              "    <tr>\n",
              "      <th>2812</th>\n",
              "      <td>0.127666</td>\n",
              "      <td>0.027033</td>\n",
              "    </tr>\n",
              "  </tbody>\n",
              "</table>\n",
              "<p>1403 rows × 2 columns</p>\n",
              "</div>"
            ],
            "text/plain": [
              "           kVA        kW\n",
              "1410  0.491400  0.999933\n",
              "1411  0.076526  0.281727\n",
              "1412  0.875158  0.464859\n",
              "1413  0.649913  0.193134\n",
              "1414  0.787578  0.669413\n",
              "...        ...       ...\n",
              "2808  0.044503  0.006286\n",
              "2809  0.718101  0.513088\n",
              "2810  0.295946  0.238140\n",
              "2811  0.513819  0.701231\n",
              "2812  0.127666  0.027033\n",
              "\n",
              "[1403 rows x 2 columns]"
            ]
          },
          "metadata": {
            "tags": []
          },
          "execution_count": 113
        }
      ]
    },
    {
      "cell_type": "code",
      "metadata": {
        "id": "RtkHFE1mOpM9"
      },
      "source": [
        "X = AutomobileIndustry.iloc[:,0].values\r\n",
        "y = AutomobileIndustry.iloc[:,1].values"
      ],
      "execution_count": 114,
      "outputs": []
    },
    {
      "cell_type": "code",
      "metadata": {
        "id": "F4inIrcpPALk"
      },
      "source": [
        "X = X.reshape(len(X),1)\r\n",
        "y = y.reshape(len(y),1)"
      ],
      "execution_count": 115,
      "outputs": []
    },
    {
      "cell_type": "code",
      "metadata": {
        "id": "_kVEpAzyPALl"
      },
      "source": [
        "X_train, X_test, y_train, y_test = train_test_split(X,y, test_size = 0.2, random_state = 10)"
      ],
      "execution_count": 116,
      "outputs": []
    },
    {
      "cell_type": "code",
      "metadata": {
        "id": "Z96WMWrtPUA6"
      },
      "source": [
        "pipeline = [pipeline_lr,pipeline_DT,pipeline_RF,pipeline_SVR]\r\n",
        "\r\n",
        "for i in pipeline:\r\n",
        "  i.fit(X_train,y_train)"
      ],
      "execution_count": 117,
      "outputs": []
    },
    {
      "cell_type": "code",
      "metadata": {
        "colab": {
          "base_uri": "https://localhost:8080/"
        },
        "id": "G3QkcfRqPUBC",
        "outputId": "05b01f5b-81d3-4bc7-f312-ab07424ba88e"
      },
      "source": [
        "full_pipeline_str = ['Linear Regression','Dession Tree','Random Forest','SVC']\r\n",
        "\r\n",
        "from sklearn import metrics\r\n",
        "for i,j in zip(pipeline,full_pipeline_str):\r\n",
        "  y_pred = i.predict(X_test)\r\n",
        "  print(j,':-')\r\n",
        "  print('Mean Absolute Error:', metrics.mean_absolute_error(y_test, y_pred))  \r\n",
        "  print('Mean Squared Error:', metrics.mean_squared_error(y_test, y_pred))  \r\n",
        "  print('Root Mean Squared Error:', np.sqrt(metrics.mean_squared_error(y_test, y_pred)))\r\n",
        "  print('R2:', metrics.r2_score(y_test, y_pred))\r\n",
        "\r\n",
        "  reg_scores(i,X_train,y_train)\r\n",
        "  print('\\n\\n')"
      ],
      "execution_count": 118,
      "outputs": [
        {
          "output_type": "stream",
          "text": [
            "Linear Regression :-\n",
            "Mean Absolute Error: 0.2466258614016338\n",
            "Mean Squared Error: 0.08094991318088807\n",
            "Root Mean Squared Error: 0.28451698223636507\n",
            "R2: -0.00864467794942314\n",
            "Scores: [0.27524671 0.28437543 0.30722513 0.26352566 0.26947508 0.30358376\n",
            " 0.29204001 0.30670029 0.27996986 0.30336293]\n",
            "Mean: 0.28855048662536725\n",
            "Standard deviation: 0.015472246589383329\n",
            "\n",
            "\n",
            "\n",
            "Dession Tree :-\n",
            "Mean Absolute Error: 0.3356995170766735\n",
            "Mean Squared Error: 0.1701892573458783\n",
            "Root Mean Squared Error: 0.4125400069640256\n",
            "R2: -1.120576562972933\n",
            "Scores: [0.4122247  0.40990931 0.3924075  0.39982441 0.40795322 0.41277497\n",
            " 0.37372389 0.39678666 0.39845784 0.40124429]\n",
            "Mean: 0.4005306793241726\n",
            "Standard deviation: 0.01110692675663807\n",
            "\n",
            "\n",
            "\n",
            "Random Forest :-\n",
            "Mean Absolute Error: 0.2970921266638411\n",
            "Mean Squared Error: 0.12871581755788172\n",
            "Root Mean Squared Error: 0.3587698671263819\n",
            "R2: -0.6038130153093022\n",
            "Scores: [0.34321547 0.34106743 0.34227453 0.34210721 0.35018895 0.36465742\n",
            " 0.33285073 0.34772748 0.33611461 0.35745651]\n",
            "Mean: 0.34576603353489593\n",
            "Standard deviation: 0.009116336853771213\n",
            "\n",
            "\n",
            "\n",
            "SVC :-\n",
            "Mean Absolute Error: 0.24834885888408864\n",
            "Mean Squared Error: 0.08192941515621664\n",
            "Root Mean Squared Error: 0.2862331482484456\n",
            "R2: -0.020849378555443998\n",
            "Scores: [0.27526143 0.2923424  0.30763199 0.26936948 0.27934474 0.30485441\n",
            " 0.28785782 0.30503046 0.28107878 0.31509711]\n",
            "Mean: 0.29178686035937645\n",
            "Standard deviation: 0.014837229376065608\n",
            "\n",
            "\n",
            "\n"
          ],
          "name": "stdout"
        }
      ]
    },
    {
      "cell_type": "code",
      "metadata": {
        "id": "cZQERL2fawRZ"
      },
      "source": [
        ""
      ],
      "execution_count": null,
      "outputs": []
    },
    {
      "cell_type": "markdown",
      "metadata": {
        "id": "fNZSazB4GBYW"
      },
      "source": [
        "#Now Train model in Classification"
      ]
    },
    {
      "cell_type": "code",
      "metadata": {
        "id": "0JSU1dJqqjWu"
      },
      "source": [
        "X = file1.iloc[:,:-1].values\r\n",
        "y = file1.iloc[:,-1].values"
      ],
      "execution_count": 119,
      "outputs": []
    },
    {
      "cell_type": "code",
      "metadata": {
        "id": "b9qyUf03mTZg"
      },
      "source": [
        "from sklearn.preprocessing import LabelEncoder\r\n",
        "le = LabelEncoder()\r\n",
        "y = le.fit_transform(y)"
      ],
      "execution_count": 120,
      "outputs": []
    },
    {
      "cell_type": "code",
      "metadata": {
        "colab": {
          "base_uri": "https://localhost:8080/"
        },
        "id": "oKw3EAVd6Ovz",
        "outputId": "3f824ed5-a1cb-4848-aa67-7eaec3e84dd2"
      },
      "source": [
        "y.shape"
      ],
      "execution_count": 121,
      "outputs": [
        {
          "output_type": "execute_result",
          "data": {
            "text/plain": [
              "(45781,)"
            ]
          },
          "metadata": {
            "tags": []
          },
          "execution_count": 121
        }
      ]
    },
    {
      "cell_type": "code",
      "metadata": {
        "id": "DH-BuwYbqurn"
      },
      "source": [
        "X_train, X_test, y_train, y_test = train_test_split(X,y, test_size = 0.2, random_state = 10)"
      ],
      "execution_count": 122,
      "outputs": []
    },
    {
      "cell_type": "code",
      "metadata": {
        "id": "fw2CT0FJahje"
      },
      "source": [
        "from sklearn.preprocessing import StandardScaler\r\n",
        "sc = StandardScaler()\r\n",
        "X_train = sc.fit_transform(X_train)\r\n",
        "X_test = sc.transform(X_test)"
      ],
      "execution_count": 123,
      "outputs": []
    },
    {
      "cell_type": "code",
      "metadata": {
        "id": "TQIomNJzsu8O"
      },
      "source": [
        "from sklearn.linear_model import LogisticRegression\r\n",
        "from sklearn.tree import DecisionTreeClassifier\r\n",
        "from sklearn.ensemble import RandomForestClassifier\r\n",
        "from sklearn.svm import SVC\r\n",
        "from sklearn.neighbors import KNeighborsClassifier\r\n",
        "from sklearn.naive_bayes import GaussianNB"
      ],
      "execution_count": 124,
      "outputs": []
    },
    {
      "cell_type": "code",
      "metadata": {
        "id": "XakyM2nGwPjt"
      },
      "source": [
        "pipeline_LC  = Pipeline([('LogisticReg',LogisticRegression(random_state = 10))])\r\n",
        "pipeline_DTC = Pipeline([('DTC',DecisionTreeClassifier(criterion = 'entropy', random_state = 10))])\r\n",
        "pipeline_RFC = Pipeline([('RFC',RandomForestClassifier(random_state = 10))])\r\n",
        "pipeline_SVC = Pipeline([('SVM',SVC(kernel='rbf'))])\r\n",
        "pipeline_KNC = Pipeline([('KNN',KNeighborsClassifier(n_neighbors = 5, metric = 'minkowski', p = 2))])\r\n",
        "pipeline_NBC = Pipeline([('GNB',GaussianNB())])"
      ],
      "execution_count": 126,
      "outputs": []
    },
    {
      "cell_type": "code",
      "metadata": {
        "id": "HcJc0KZVwUiL"
      },
      "source": [
        "pipeline = [pipeline_LC,pipeline_DTC,pipeline_RFC,pipeline_SVC,pipeline_KNC,pipeline_NBC]\r\n",
        "\r\n",
        "for i in pipeline:\r\n",
        "  i.fit(X_train,y_train)"
      ],
      "execution_count": 78,
      "outputs": []
    },
    {
      "cell_type": "code",
      "metadata": {
        "id": "0La-dJyH1sYY"
      },
      "source": [
        "from sklearn.model_selection import cross_val_score\r\n",
        "def accu_scores(reg, independent, dependent):\r\n",
        "  accuracies  = cross_val_score(reg, independent, dependent,cv = 10, n_jobs=-1)\r\n",
        "  print(\"Scores:\", accuracies)\r\n",
        "  print(\"Kfold Accuracy: {:.2f} %\".format(accuracies.mean()*100))\r\n",
        "  print(\"Standard Deviation: {:.2f} %\".format(accuracies.std()*100))"
      ],
      "execution_count": 82,
      "outputs": []
    },
    {
      "cell_type": "code",
      "metadata": {
        "colab": {
          "base_uri": "https://localhost:8080/"
        },
        "id": "oKvzCRGmyboc",
        "outputId": "4974ee2d-372c-4fe6-9491-3b5fbaf0af3a"
      },
      "source": [
        "full_pipeline_str = ['Logistic Regression','Dession Tree','Random Forest','SVM','KNN','Navie Bayse']\r\n",
        "\r\n",
        "from sklearn.metrics import confusion_matrix, accuracy_score\r\n",
        "for i,j in zip(pipeline,full_pipeline_str):\r\n",
        "  y_pred = i.predict(X_test)\r\n",
        "  print(j,':-')\r\n",
        "  accu_scores(i,X_train,y_train)\r\n",
        "  #cm = confusion_matrix(y_test, y_pred)\r\n",
        "  #print(cm)\r\n",
        "  print(\"Accuracy: {:.4f} %\".format(accuracy_score(y_test, y_pred)*100))\r\n",
        "  print(\"\\n\\n\")"
      ],
      "execution_count": 84,
      "outputs": [
        {
          "output_type": "stream",
          "text": [
            "Logistic Regression :-\n",
            "Scores: [0.06415506 0.06360906 0.06470106 0.06360906 0.06335336 0.06417258\n",
            " 0.06526488 0.05898416 0.05898416 0.06471873]\n",
            "Kfold Accuracy: 6.32 %\n",
            "Standard Deviation: 0.22 %\n",
            "Accuracy: 6.4104 %\n",
            "\n",
            "\n",
            "\n",
            "Dession Tree :-\n",
            "Scores: [0.05050505 0.04968605 0.04968605 0.05760306 0.05516111 0.06171491\n",
            " 0.05761879 0.05598034 0.05625341 0.05079192]\n",
            "Kfold Accuracy: 5.45 %\n",
            "Standard Deviation: 0.39 %\n",
            "Accuracy: 4.8051 %\n",
            "\n",
            "\n",
            "\n",
            "Random Forest :-\n",
            "Scores: [0.05487305 0.05268905 0.05214305 0.05705706 0.05324959 0.05980339\n",
            " 0.05079192 0.05570726 0.05379574 0.05652649]\n",
            "Kfold Accuracy: 5.47 %\n",
            "Standard Deviation: 0.25 %\n",
            "Accuracy: 5.4385 %\n",
            "\n",
            "\n",
            "\n",
            "SVM :-\n",
            "Scores: [0.05896806 0.05951406 0.06224406 0.06688507 0.06308028 0.06581103\n",
            " 0.06690333 0.06308028 0.06335336 0.06198798]\n",
            "Kfold Accuracy: 6.32 %\n",
            "Standard Deviation: 0.26 %\n",
            "Accuracy: 6.3776 %\n",
            "\n",
            "\n",
            "\n",
            "KNN :-\n",
            "Scores: [0.04668305 0.04504505 0.04941305 0.04886705 0.04423812 0.04888039\n",
            " 0.05161114 0.04778809 0.04806117 0.05270344]\n",
            "Kfold Accuracy: 4.83 %\n",
            "Standard Deviation: 0.25 %\n",
            "Accuracy: 4.7723 %\n",
            "\n",
            "\n",
            "\n",
            "Navie Bayse :-\n",
            "Scores: [0.06197106 0.06224406 0.06033306 0.06470106 0.06034954 0.06171491\n",
            " 0.05980339 0.05652649 0.05679956 0.06198798]\n",
            "Kfold Accuracy: 6.06 %\n",
            "Standard Deviation: 0.24 %\n",
            "Accuracy: 6.3558 %\n",
            "\n",
            "\n",
            "\n"
          ],
          "name": "stdout"
        }
      ]
    },
    {
      "cell_type": "code",
      "metadata": {
        "id": "WO4ZxJnKsjJG"
      },
      "source": [
        ""
      ],
      "execution_count": null,
      "outputs": []
    },
    {
      "cell_type": "markdown",
      "metadata": {
        "id": "3lQKsUeM0zIL"
      },
      "source": [
        "#Now Train model in Clustring"
      ]
    },
    {
      "cell_type": "code",
      "metadata": {
        "id": "D0Bi1i7CBEPF"
      },
      "source": [
        "X = file1.iloc[:,:-1].values\r\n",
        "y = file1.iloc[:,-1].values"
      ],
      "execution_count": null,
      "outputs": []
    },
    {
      "cell_type": "code",
      "metadata": {
        "colab": {
          "base_uri": "https://localhost:8080/"
        },
        "id": "d1i1k6BXWKeD",
        "outputId": "c5aba524-62b4-42af-dfc0-3f6445fbc964"
      },
      "source": [
        "X.shape"
      ],
      "execution_count": null,
      "outputs": [
        {
          "output_type": "execute_result",
          "data": {
            "text/plain": [
              "(45781, 2)"
            ]
          },
          "metadata": {
            "tags": []
          },
          "execution_count": 6
        }
      ]
    },
    {
      "cell_type": "markdown",
      "metadata": {
        "id": "LYpmVO-tYDwn"
      },
      "source": [
        "##Plot dendogram"
      ]
    },
    {
      "cell_type": "code",
      "metadata": {
        "id": "BMunv7xOW1z8"
      },
      "source": [
        "import scipy.cluster.hierarchy as sch\r\n",
        "dendrogram = sch.dendrogram(sch.linkage(X, method = 'ward')) # Minimum variance method\r\n",
        "plt.title('Dendrogram')\r\n",
        "plt.xlabel('Customers')\r\n",
        "plt.ylabel('Euclidean distances')\r\n",
        "plt.show()"
      ],
      "execution_count": null,
      "outputs": []
    },
    {
      "cell_type": "code",
      "metadata": {
        "id": "2i7Cuv1Zhc4U"
      },
      "source": [
        "from sklearn.cluster import AgglomerativeClustering\r\n",
        "hc = AgglomerativeClustering(n_clusters = 5, affinity = 'euclidean', linkage = 'ward')\r\n",
        "y_pred = hc.fit_predict(X_new)"
      ],
      "execution_count": null,
      "outputs": []
    },
    {
      "cell_type": "code",
      "metadata": {
        "id": "U-4Ax5EFk0ia"
      },
      "source": [
        ""
      ],
      "execution_count": null,
      "outputs": []
    },
    {
      "cell_type": "markdown",
      "metadata": {
        "id": "vhtqwF-8YUGE"
      },
      "source": [
        "##Plot KMeans"
      ]
    },
    {
      "cell_type": "code",
      "metadata": {
        "colab": {
          "base_uri": "https://localhost:8080/",
          "height": 513
        },
        "id": "kReidrtYD5ba",
        "outputId": "d9eb633e-070d-4ba2-9c95-8a391a3e45d4"
      },
      "source": [
        "from sklearn.cluster import KMeans\r\n",
        "wcss = []\r\n",
        "for i in range(1, 10):\r\n",
        "    kmeans = KMeans(n_clusters = i, init = 'k-means++', random_state = 42)\r\n",
        "    kmeans.fit(X)\r\n",
        "    wcss.append(kmeans.inertia_)\r\n",
        "\r\n",
        "plt.figure(figsize=(10,8))\r\n",
        "plt.plot(range(1, 10), wcss, marker='o', linewidth=2, markersize=12)\r\n",
        "plt.title('The Elbow Method')\r\n",
        "plt.xlabel('Number of clusters')\r\n",
        "plt.ylabel('WCSS')\r\n",
        "plt.show();"
      ],
      "execution_count": null,
      "outputs": [
        {
          "output_type": "display_data",
          "data": {
            "image/png": "[encoded data removed]",
            "text/plain": [
              "<Figure size 720x576 with 1 Axes>"
            ]
          },
          "metadata": {
            "tags": [],
            "needs_background": "light"
          }
        }
      ]
    },
    {
      "cell_type": "markdown",
      "metadata": {
        "id": "lC6hcmmzYuqO"
      },
      "source": [
        "According to above graph 4 cluster is the best option to divide the data."
      ]
    },
    {
      "cell_type": "code",
      "metadata": {
        "id": "cHU4wBb6D6I8"
      },
      "source": [
        "from sklearn.cluster import KMeans\r\n",
        "kmeans = KMeans(n_clusters = 4, init = 'k-means++', random_state = 42)\r\n",
        "y_kmeans = kmeans.fit_predict(X)"
      ],
      "execution_count": null,
      "outputs": []
    },
    {
      "cell_type": "code",
      "metadata": {
        "colab": {
          "base_uri": "https://localhost:8080/",
          "height": 483
        },
        "id": "NiqbiUJrFUv5",
        "outputId": "91870108-14ed-414d-831d-bd7d59ffd0fe"
      },
      "source": [
        "plt.figure(figsize=(10,8))\r\n",
        "plt.scatter(X[y_kmeans == 0, 0], X[y_kmeans == 0, 1], s = 100, c = 'red', label = 'Cluster 1')\r\n",
        "plt.scatter(X[y_kmeans == 1, 0], X[y_kmeans == 1, 1], s = 100, c = 'blue', label = 'Cluster 2')\r\n",
        "plt.scatter(X[y_kmeans == 2, 0], X[y_kmeans == 2, 1], s = 100, c = 'green', label = 'Cluster 3')\r\n",
        "plt.scatter(X[y_kmeans == 3, 0], X[y_kmeans == 3, 1], s = 100, c = 'cyan', label = 'Cluster 4')\r\n",
        "plt.scatter(kmeans.cluster_centers_[:, 0], kmeans.cluster_centers_[:, 1], s = 300, c = 'yellow', label = 'Centroids')\r\n",
        "plt.legend();"
      ],
      "execution_count": null,
      "outputs": [
        {
          "output_type": "display_data",
          "data": {
            "image/png": "[encoded data removed]",
            "text/plain": [
              "<Figure size 720x576 with 1 Axes>"
            ]
          },
          "metadata": {
            "tags": [],
            "needs_background": "light"
          }
        }
      ]
    },
    {
      "cell_type": "code",
      "metadata": {
        "colab": {
          "base_uri": "https://localhost:8080/"
        },
        "id": "FRl4vQUn3AWR",
        "outputId": "c0857c62-d83a-48e9-ecf5-0a5755b41e2e"
      },
      "source": [
        "y_kmeans"
      ],
      "execution_count": null,
      "outputs": [
        {
          "output_type": "execute_result",
          "data": {
            "text/plain": [
              "array([3, 1, 2, ..., 3, 3, 3], dtype=int32)"
            ]
          },
          "metadata": {
            "tags": []
          },
          "execution_count": 27
        }
      ]
    },
    {
      "cell_type": "code",
      "metadata": {
        "colab": {
          "base_uri": "https://localhost:8080/"
        },
        "id": "oPFmhwn8GRRT",
        "outputId": "aeb11359-8dc2-438f-dc0a-be816e9670cb"
      },
      "source": [
        "kmeans.predict([[0.489427,0.841497],[0.875158,0.464859]])+"
      ],
      "execution_count": null,
      "outputs": [
        {
          "output_type": "execute_result",
          "data": {
            "text/plain": [
              "array([2, 3], dtype=int32)"
            ]
          },
          "metadata": {
            "tags": []
          },
          "execution_count": 21
        }
      ]
    },
    {
      "cell_type": "code",
      "metadata": {
        "colab": {
          "base_uri": "https://localhost:8080/",
          "height": 406
        },
        "id": "l5Ov0FHVdrKA",
        "outputId": "43355e14-a5b0-4e2f-e95a-0a8519ba15ad"
      },
      "source": [
        "file1"
      ],
      "execution_count": null,
      "outputs": [
        {
          "output_type": "execute_result",
          "data": {
            "text/html": [
              "<div>\n",
              "<style scoped>\n",
              "    .dataframe tbody tr th:only-of-type {\n",
              "        vertical-align: middle;\n",
              "    }\n",
              "\n",
              "    .dataframe tbody tr th {\n",
              "        vertical-align: top;\n",
              "    }\n",
              "\n",
              "    .dataframe thead th {\n",
              "        text-align: right;\n",
              "    }\n",
              "</style>\n",
              "<table border=\"1\" class=\"dataframe\">\n",
              "  <thead>\n",
              "    <tr style=\"text-align: right;\">\n",
              "      <th></th>\n",
              "      <th>kVA</th>\n",
              "      <th>kW</th>\n",
              "      <th>Type</th>\n",
              "    </tr>\n",
              "  </thead>\n",
              "  <tbody>\n",
              "    <tr>\n",
              "      <th>0</th>\n",
              "      <td>0.865936</td>\n",
              "      <td>0.143763</td>\n",
              "      <td>Bank</td>\n",
              "    </tr>\n",
              "    <tr>\n",
              "      <th>1</th>\n",
              "      <td>0.129804</td>\n",
              "      <td>0.088930</td>\n",
              "      <td>Bank</td>\n",
              "    </tr>\n",
              "    <tr>\n",
              "      <th>2</th>\n",
              "      <td>0.061801</td>\n",
              "      <td>0.552047</td>\n",
              "      <td>Bank</td>\n",
              "    </tr>\n",
              "    <tr>\n",
              "      <th>3</th>\n",
              "      <td>0.099116</td>\n",
              "      <td>0.848172</td>\n",
              "      <td>Bank</td>\n",
              "    </tr>\n",
              "    <tr>\n",
              "      <th>4</th>\n",
              "      <td>0.205704</td>\n",
              "      <td>0.624722</td>\n",
              "      <td>Bank</td>\n",
              "    </tr>\n",
              "    <tr>\n",
              "      <th>...</th>\n",
              "      <td>...</td>\n",
              "      <td>...</td>\n",
              "      <td>...</td>\n",
              "    </tr>\n",
              "    <tr>\n",
              "      <th>45776</th>\n",
              "      <td>0.815382</td>\n",
              "      <td>0.822821</td>\n",
              "      <td>University</td>\n",
              "    </tr>\n",
              "    <tr>\n",
              "      <th>45777</th>\n",
              "      <td>0.821317</td>\n",
              "      <td>0.439967</td>\n",
              "      <td>University</td>\n",
              "    </tr>\n",
              "    <tr>\n",
              "      <th>45778</th>\n",
              "      <td>0.523061</td>\n",
              "      <td>0.227777</td>\n",
              "      <td>University</td>\n",
              "    </tr>\n",
              "    <tr>\n",
              "      <th>45779</th>\n",
              "      <td>0.925497</td>\n",
              "      <td>0.386428</td>\n",
              "      <td>University</td>\n",
              "    </tr>\n",
              "    <tr>\n",
              "      <th>45780</th>\n",
              "      <td>0.763602</td>\n",
              "      <td>0.456028</td>\n",
              "      <td>University</td>\n",
              "    </tr>\n",
              "  </tbody>\n",
              "</table>\n",
              "<p>45781 rows × 3 columns</p>\n",
              "</div>"
            ],
            "text/plain": [
              "            kVA        kW        Type\n",
              "0      0.865936  0.143763        Bank\n",
              "1      0.129804  0.088930        Bank\n",
              "2      0.061801  0.552047        Bank\n",
              "3      0.099116  0.848172        Bank\n",
              "4      0.205704  0.624722        Bank\n",
              "...         ...       ...         ...\n",
              "45776  0.815382  0.822821  University\n",
              "45777  0.821317  0.439967  University\n",
              "45778  0.523061  0.227777  University\n",
              "45779  0.925497  0.386428  University\n",
              "45780  0.763602  0.456028  University\n",
              "\n",
              "[45781 rows x 3 columns]"
            ]
          },
          "metadata": {
            "tags": []
          },
          "execution_count": 21
        }
      ]
    },
    {
      "cell_type": "code",
      "metadata": {
        "id": "PJb3YGjqIliT"
      },
      "source": [
        "cluster = []\r\n",
        "for i in X:\r\n",
        "  z = kmeans.predict([i])[0]\r\n",
        "  cluster.append(z)"
      ],
      "execution_count": null,
      "outputs": []
    },
    {
      "cell_type": "code",
      "metadata": {
        "colab": {
          "base_uri": "https://localhost:8080/"
        },
        "id": "MU2UHF4NJbsY",
        "outputId": "d6eac0e2-e87d-47ce-839f-6654bf26d28a"
      },
      "source": [
        "cluster"
      ],
      "execution_count": null,
      "outputs": [
        {
          "output_type": "execute_result",
          "data": {
            "text/plain": [
              "[3,\n",
              " 1,\n",
              " 2,\n",
              " 2,\n",
              " 2,\n",
              " 1,\n",
              " 3,\n",
              " 2,\n",
              " 1,\n",
              " 3,\n",
              " 1,\n",
              " 0,\n",
              " 3,\n",
              " 1,\n",
              " 3,\n",
              " 0,\n",
              " 2,\n",
              " 1,\n",
              " 0,\n",
              " 3,\n",
              " 0,\n",
              " 2,\n",
              " 0,\n",
              " 3,\n",
              " 1,\n",
              " 1,\n",
              " 1,\n",
              " 1,\n",
              " 3,\n",
              " 2,\n",
              " 3,\n",
              " 1,\n",
              " 0,\n",
              " 3,\n",
              " 2,\n",
              " 1,\n",
              " 0,\n",
              " 3,\n",
              " 1,\n",
              " 1,\n",
              " 3,\n",
              " 3,\n",
              " 2,\n",
              " 0,\n",
              " 2,\n",
              " 2,\n",
              " 3,\n",
              " 1,\n",
              " 0,\n",
              " 1,\n",
              " 2,\n",
              " 3,\n",
              " 3,\n",
              " 2,\n",
              " 2,\n",
              " 0,\n",
              " 0,\n",
              " 0,\n",
              " 0,\n",
              " 2,\n",
              " 2,\n",
              " 2,\n",
              " 3,\n",
              " 1,\n",
              " 1,\n",
              " 0,\n",
              " 0,\n",
              " 2,\n",
              " 2,\n",
              " 2,\n",
              " 3,\n",
              " 3,\n",
              " 1,\n",
              " 0,\n",
              " 1,\n",
              " 3,\n",
              " 1,\n",
              " 1,\n",
              " 0,\n",
              " 0,\n",
              " 3,\n",
              " 3,\n",
              " 2,\n",
              " 3,\n",
              " 1,\n",
              " 3,\n",
              " 2,\n",
              " 1,\n",
              " 0,\n",
              " 2,\n",
              " 1,\n",
              " 1,\n",
              " 0,\n",
              " 3,\n",
              " 1,\n",
              " 3,\n",
              " 0,\n",
              " 1,\n",
              " 2,\n",
              " 0,\n",
              " 2,\n",
              " 2,\n",
              " 3,\n",
              " 2,\n",
              " 0,\n",
              " 2,\n",
              " 0,\n",
              " 0,\n",
              " 0,\n",
              " 3,\n",
              " 2,\n",
              " 0,\n",
              " 2,\n",
              " 0,\n",
              " 2,\n",
              " 0,\n",
              " 0,\n",
              " 3,\n",
              " 1,\n",
              " 0,\n",
              " 2,\n",
              " 2,\n",
              " 3,\n",
              " 0,\n",
              " 3,\n",
              " 2,\n",
              " 3,\n",
              " 3,\n",
              " 2,\n",
              " 1,\n",
              " 0,\n",
              " 1,\n",
              " 2,\n",
              " 3,\n",
              " 1,\n",
              " 2,\n",
              " 2,\n",
              " 1,\n",
              " 1,\n",
              " 2,\n",
              " 3,\n",
              " 1,\n",
              " 3,\n",
              " 2,\n",
              " 1,\n",
              " 3,\n",
              " 0,\n",
              " 3,\n",
              " 3,\n",
              " 3,\n",
              " 3,\n",
              " 0,\n",
              " 3,\n",
              " 1,\n",
              " 2,\n",
              " 2,\n",
              " 3,\n",
              " 3,\n",
              " 0,\n",
              " 0,\n",
              " 0,\n",
              " 0,\n",
              " 0,\n",
              " 1,\n",
              " 2,\n",
              " 0,\n",
              " 3,\n",
              " 3,\n",
              " 2,\n",
              " 3,\n",
              " 3,\n",
              " 1,\n",
              " 0,\n",
              " 0,\n",
              " 2,\n",
              " 0,\n",
              " 2,\n",
              " 1,\n",
              " 1,\n",
              " 3,\n",
              " 0,\n",
              " 2,\n",
              " 1,\n",
              " 2,\n",
              " 2,\n",
              " 2,\n",
              " 2,\n",
              " 2,\n",
              " 0,\n",
              " 2,\n",
              " 3,\n",
              " 1,\n",
              " 2,\n",
              " 1,\n",
              " 3,\n",
              " 1,\n",
              " 3,\n",
              " 2,\n",
              " 3,\n",
              " 0,\n",
              " 3,\n",
              " 0,\n",
              " 1,\n",
              " 2,\n",
              " 2,\n",
              " 0,\n",
              " 3,\n",
              " 0,\n",
              " 3,\n",
              " 3,\n",
              " 2,\n",
              " 1,\n",
              " 3,\n",
              " 1,\n",
              " 2,\n",
              " 2,\n",
              " 0,\n",
              " 3,\n",
              " 0,\n",
              " 0,\n",
              " 0,\n",
              " 0,\n",
              " 0,\n",
              " 0,\n",
              " 2,\n",
              " 0,\n",
              " 2,\n",
              " 0,\n",
              " 1,\n",
              " 3,\n",
              " 2,\n",
              " 1,\n",
              " 0,\n",
              " 3,\n",
              " 2,\n",
              " 2,\n",
              " 2,\n",
              " 1,\n",
              " 3,\n",
              " 3,\n",
              " 1,\n",
              " 0,\n",
              " 1,\n",
              " 1,\n",
              " 3,\n",
              " 0,\n",
              " 1,\n",
              " 2,\n",
              " 2,\n",
              " 1,\n",
              " 1,\n",
              " 2,\n",
              " 1,\n",
              " 3,\n",
              " 2,\n",
              " 3,\n",
              " 3,\n",
              " 2,\n",
              " 3,\n",
              " 3,\n",
              " 0,\n",
              " 2,\n",
              " 3,\n",
              " 3,\n",
              " 1,\n",
              " 1,\n",
              " 2,\n",
              " 0,\n",
              " 3,\n",
              " 2,\n",
              " 3,\n",
              " 2,\n",
              " 0,\n",
              " 3,\n",
              " 3,\n",
              " 1,\n",
              " 1,\n",
              " 2,\n",
              " 0,\n",
              " 1,\n",
              " 0,\n",
              " 0,\n",
              " 2,\n",
              " 0,\n",
              " 3,\n",
              " 0,\n",
              " 0,\n",
              " 2,\n",
              " 0,\n",
              " 3,\n",
              " 0,\n",
              " 2,\n",
              " 1,\n",
              " 1,\n",
              " 2,\n",
              " 2,\n",
              " 2,\n",
              " 2,\n",
              " 2,\n",
              " 3,\n",
              " 1,\n",
              " 2,\n",
              " 1,\n",
              " 3,\n",
              " 1,\n",
              " 2,\n",
              " 3,\n",
              " 0,\n",
              " 3,\n",
              " 3,\n",
              " 2,\n",
              " 0,\n",
              " 0,\n",
              " 0,\n",
              " 3,\n",
              " 2,\n",
              " 1,\n",
              " 0,\n",
              " 2,\n",
              " 2,\n",
              " 0,\n",
              " 3,\n",
              " 1,\n",
              " 1,\n",
              " 1,\n",
              " 1,\n",
              " 2,\n",
              " 3,\n",
              " 1,\n",
              " 2,\n",
              " 1,\n",
              " 3,\n",
              " 0,\n",
              " 3,\n",
              " 3,\n",
              " 3,\n",
              " 3,\n",
              " 0,\n",
              " 3,\n",
              " 0,\n",
              " 3,\n",
              " 1,\n",
              " 1,\n",
              " 3,\n",
              " 3,\n",
              " 2,\n",
              " 3,\n",
              " 0,\n",
              " 0,\n",
              " 0,\n",
              " 1,\n",
              " 3,\n",
              " 2,\n",
              " 2,\n",
              " 2,\n",
              " 1,\n",
              " 3,\n",
              " 3,\n",
              " 3,\n",
              " 1,\n",
              " 2,\n",
              " 3,\n",
              " 1,\n",
              " 0,\n",
              " 3,\n",
              " 3,\n",
              " 2,\n",
              " 3,\n",
              " 1,\n",
              " 1,\n",
              " 0,\n",
              " 2,\n",
              " 1,\n",
              " 1,\n",
              " 1,\n",
              " 3,\n",
              " 3,\n",
              " 0,\n",
              " 0,\n",
              " 2,\n",
              " 1,\n",
              " 0,\n",
              " 1,\n",
              " 3,\n",
              " 2,\n",
              " 2,\n",
              " 1,\n",
              " 2,\n",
              " 3,\n",
              " 1,\n",
              " 0,\n",
              " 1,\n",
              " 3,\n",
              " 0,\n",
              " 1,\n",
              " 1,\n",
              " 1,\n",
              " 0,\n",
              " 3,\n",
              " 0,\n",
              " 3,\n",
              " 2,\n",
              " 2,\n",
              " 1,\n",
              " 3,\n",
              " 3,\n",
              " 1,\n",
              " 3,\n",
              " 2,\n",
              " 0,\n",
              " 3,\n",
              " 1,\n",
              " 3,\n",
              " 2,\n",
              " 2,\n",
              " 1,\n",
              " 2,\n",
              " 0,\n",
              " 1,\n",
              " 3,\n",
              " 2,\n",
              " 3,\n",
              " 2,\n",
              " 3,\n",
              " 0,\n",
              " 1,\n",
              " 3,\n",
              " 1,\n",
              " 0,\n",
              " 1,\n",
              " 0,\n",
              " 0,\n",
              " 1,\n",
              " 3,\n",
              " 1,\n",
              " 0,\n",
              " 0,\n",
              " 2,\n",
              " 0,\n",
              " 2,\n",
              " 1,\n",
              " 2,\n",
              " 1,\n",
              " 1,\n",
              " 1,\n",
              " 0,\n",
              " 2,\n",
              " 3,\n",
              " 2,\n",
              " 0,\n",
              " 0,\n",
              " 1,\n",
              " 0,\n",
              " 2,\n",
              " 0,\n",
              " 3,\n",
              " 1,\n",
              " 3,\n",
              " 1,\n",
              " 1,\n",
              " 2,\n",
              " 1,\n",
              " 3,\n",
              " 2,\n",
              " 1,\n",
              " 1,\n",
              " 0,\n",
              " 3,\n",
              " 2,\n",
              " 0,\n",
              " 2,\n",
              " 3,\n",
              " 3,\n",
              " 2,\n",
              " 1,\n",
              " 0,\n",
              " 2,\n",
              " 2,\n",
              " 0,\n",
              " 0,\n",
              " 3,\n",
              " 3,\n",
              " 3,\n",
              " 0,\n",
              " 0,\n",
              " 1,\n",
              " 3,\n",
              " 2,\n",
              " 3,\n",
              " 1,\n",
              " 0,\n",
              " 2,\n",
              " 2,\n",
              " 2,\n",
              " 2,\n",
              " 1,\n",
              " 1,\n",
              " 2,\n",
              " 0,\n",
              " 3,\n",
              " 3,\n",
              " 3,\n",
              " 0,\n",
              " 2,\n",
              " 1,\n",
              " 3,\n",
              " 1,\n",
              " 0,\n",
              " 2,\n",
              " 1,\n",
              " 0,\n",
              " 1,\n",
              " 3,\n",
              " 0,\n",
              " 1,\n",
              " 0,\n",
              " 1,\n",
              " 1,\n",
              " 2,\n",
              " 2,\n",
              " 2,\n",
              " 2,\n",
              " 0,\n",
              " 2,\n",
              " 1,\n",
              " 1,\n",
              " 1,\n",
              " 3,\n",
              " 0,\n",
              " 3,\n",
              " 1,\n",
              " 1,\n",
              " 3,\n",
              " 3,\n",
              " 2,\n",
              " 2,\n",
              " 2,\n",
              " 2,\n",
              " 1,\n",
              " 3,\n",
              " 2,\n",
              " 1,\n",
              " 1,\n",
              " 2,\n",
              " 2,\n",
              " 2,\n",
              " 1,\n",
              " 1,\n",
              " 0,\n",
              " 0,\n",
              " 2,\n",
              " 1,\n",
              " 3,\n",
              " 1,\n",
              " 1,\n",
              " 0,\n",
              " 3,\n",
              " 1,\n",
              " 3,\n",
              " 0,\n",
              " 0,\n",
              " 3,\n",
              " 2,\n",
              " 0,\n",
              " 3,\n",
              " 0,\n",
              " 2,\n",
              " 1,\n",
              " 2,\n",
              " 0,\n",
              " 1,\n",
              " 2,\n",
              " 1,\n",
              " 3,\n",
              " 3,\n",
              " 3,\n",
              " 3,\n",
              " 3,\n",
              " 0,\n",
              " 0,\n",
              " 1,\n",
              " 2,\n",
              " 3,\n",
              " 0,\n",
              " 3,\n",
              " 2,\n",
              " 0,\n",
              " 0,\n",
              " 2,\n",
              " 3,\n",
              " 2,\n",
              " 0,\n",
              " 0,\n",
              " 0,\n",
              " 0,\n",
              " 3,\n",
              " 3,\n",
              " 1,\n",
              " 3,\n",
              " 2,\n",
              " 1,\n",
              " 0,\n",
              " 0,\n",
              " 3,\n",
              " 3,\n",
              " 2,\n",
              " 1,\n",
              " 2,\n",
              " 0,\n",
              " 1,\n",
              " 0,\n",
              " 0,\n",
              " 2,\n",
              " 1,\n",
              " 0,\n",
              " 3,\n",
              " 2,\n",
              " 2,\n",
              " 0,\n",
              " 1,\n",
              " 3,\n",
              " 2,\n",
              " 2,\n",
              " 0,\n",
              " 2,\n",
              " 2,\n",
              " 1,\n",
              " 3,\n",
              " 1,\n",
              " 1,\n",
              " 0,\n",
              " 0,\n",
              " 0,\n",
              " 3,\n",
              " 3,\n",
              " 2,\n",
              " 3,\n",
              " 3,\n",
              " 0,\n",
              " 3,\n",
              " 1,\n",
              " 3,\n",
              " 1,\n",
              " 2,\n",
              " 0,\n",
              " 0,\n",
              " 1,\n",
              " 0,\n",
              " 1,\n",
              " 3,\n",
              " 0,\n",
              " 0,\n",
              " 0,\n",
              " 0,\n",
              " 2,\n",
              " 2,\n",
              " 0,\n",
              " 1,\n",
              " 1,\n",
              " 0,\n",
              " 2,\n",
              " 1,\n",
              " 0,\n",
              " 3,\n",
              " 0,\n",
              " 3,\n",
              " 0,\n",
              " 3,\n",
              " 1,\n",
              " 0,\n",
              " 0,\n",
              " 3,\n",
              " 0,\n",
              " 1,\n",
              " 0,\n",
              " 0,\n",
              " 2,\n",
              " 0,\n",
              " 3,\n",
              " 1,\n",
              " 3,\n",
              " 0,\n",
              " 2,\n",
              " 2,\n",
              " 0,\n",
              " 3,\n",
              " 1,\n",
              " 1,\n",
              " 3,\n",
              " 2,\n",
              " 3,\n",
              " 3,\n",
              " 0,\n",
              " 0,\n",
              " 2,\n",
              " 2,\n",
              " 1,\n",
              " 2,\n",
              " 0,\n",
              " 1,\n",
              " 1,\n",
              " 3,\n",
              " 0,\n",
              " 1,\n",
              " 1,\n",
              " 3,\n",
              " 1,\n",
              " 0,\n",
              " 1,\n",
              " 1,\n",
              " 3,\n",
              " 3,\n",
              " 2,\n",
              " 3,\n",
              " 2,\n",
              " 2,\n",
              " 0,\n",
              " 2,\n",
              " 1,\n",
              " 1,\n",
              " 3,\n",
              " 3,\n",
              " 2,\n",
              " 3,\n",
              " 2,\n",
              " 2,\n",
              " 2,\n",
              " 0,\n",
              " 0,\n",
              " 2,\n",
              " 1,\n",
              " 2,\n",
              " 0,\n",
              " 3,\n",
              " 1,\n",
              " 3,\n",
              " 1,\n",
              " 2,\n",
              " 1,\n",
              " 0,\n",
              " 1,\n",
              " 2,\n",
              " 0,\n",
              " 3,\n",
              " 1,\n",
              " 0,\n",
              " 3,\n",
              " 2,\n",
              " 2,\n",
              " 0,\n",
              " 2,\n",
              " 2,\n",
              " 3,\n",
              " 2,\n",
              " 0,\n",
              " 3,\n",
              " 2,\n",
              " 0,\n",
              " 3,\n",
              " 3,\n",
              " 3,\n",
              " 0,\n",
              " 1,\n",
              " 0,\n",
              " 3,\n",
              " 2,\n",
              " 1,\n",
              " 1,\n",
              " 3,\n",
              " 3,\n",
              " 2,\n",
              " 0,\n",
              " 0,\n",
              " 3,\n",
              " 3,\n",
              " 2,\n",
              " 0,\n",
              " 1,\n",
              " 1,\n",
              " 2,\n",
              " 3,\n",
              " 0,\n",
              " 3,\n",
              " 2,\n",
              " 0,\n",
              " 3,\n",
              " 0,\n",
              " 2,\n",
              " 3,\n",
              " 2,\n",
              " 1,\n",
              " 1,\n",
              " 1,\n",
              " 1,\n",
              " 0,\n",
              " 1,\n",
              " 0,\n",
              " 0,\n",
              " 2,\n",
              " 0,\n",
              " 2,\n",
              " 1,\n",
              " 1,\n",
              " 2,\n",
              " 3,\n",
              " 3,\n",
              " 2,\n",
              " 2,\n",
              " 0,\n",
              " 2,\n",
              " 0,\n",
              " 1,\n",
              " 3,\n",
              " 0,\n",
              " 2,\n",
              " 3,\n",
              " 0,\n",
              " 0,\n",
              " 3,\n",
              " 3,\n",
              " 2,\n",
              " 0,\n",
              " 0,\n",
              " 1,\n",
              " 2,\n",
              " 2,\n",
              " 3,\n",
              " 1,\n",
              " 0,\n",
              " 3,\n",
              " 0,\n",
              " 3,\n",
              " 0,\n",
              " 3,\n",
              " 1,\n",
              " 3,\n",
              " 2,\n",
              " 2,\n",
              " 1,\n",
              " 1,\n",
              " 1,\n",
              " 3,\n",
              " 0,\n",
              " 1,\n",
              " 1,\n",
              " 1,\n",
              " 1,\n",
              " 2,\n",
              " 2,\n",
              " 1,\n",
              " 0,\n",
              " 3,\n",
              " 1,\n",
              " 1,\n",
              " 0,\n",
              " 1,\n",
              " 1,\n",
              " 2,\n",
              " 1,\n",
              " 2,\n",
              " 2,\n",
              " 3,\n",
              " 2,\n",
              " 3,\n",
              " 3,\n",
              " 0,\n",
              " 3,\n",
              " 0,\n",
              " 2,\n",
              " 1,\n",
              " 2,\n",
              " 1,\n",
              " 2,\n",
              " 0,\n",
              " 1,\n",
              " 2,\n",
              " 0,\n",
              " 1,\n",
              " 1,\n",
              " 2,\n",
              " 2,\n",
              " 1,\n",
              " 0,\n",
              " 3,\n",
              " 0,\n",
              " 1,\n",
              " 0,\n",
              " 2,\n",
              " 2,\n",
              " 2,\n",
              " 3,\n",
              " 2,\n",
              " 0,\n",
              " 1,\n",
              " 0,\n",
              " 3,\n",
              " 3,\n",
              " 1,\n",
              " 0,\n",
              " 1,\n",
              " 1,\n",
              " 1,\n",
              " 1,\n",
              " 0,\n",
              " 1,\n",
              " 1,\n",
              " 0,\n",
              " 1,\n",
              " 1,\n",
              " 3,\n",
              " 1,\n",
              " 1,\n",
              " 0,\n",
              " 3,\n",
              " 3,\n",
              " 2,\n",
              " 1,\n",
              " 2,\n",
              " 3,\n",
              " 3,\n",
              " 0,\n",
              " 2,\n",
              " 0,\n",
              " 0,\n",
              " 1,\n",
              " 2,\n",
              " 0,\n",
              " 1,\n",
              " 3,\n",
              " 0,\n",
              " 2,\n",
              " 1,\n",
              " 3,\n",
              " 3,\n",
              " 3,\n",
              " 0,\n",
              " 1,\n",
              " 0,\n",
              " 1,\n",
              " 2,\n",
              " 0,\n",
              " 0,\n",
              " 3,\n",
              " 1,\n",
              " 2,\n",
              " 0,\n",
              " 2,\n",
              " 1,\n",
              " 1,\n",
              " 1,\n",
              " 2,\n",
              " 0,\n",
              " 2,\n",
              " 0,\n",
              " 1,\n",
              " 1,\n",
              " 0,\n",
              " 2,\n",
              " 3,\n",
              " 2,\n",
              " 3,\n",
              " 0,\n",
              " 0,\n",
              " 1,\n",
              " 2,\n",
              " 3,\n",
              " 3,\n",
              " 3,\n",
              " 1,\n",
              " 0,\n",
              " 0,\n",
              " 1,\n",
              " 3,\n",
              " 3,\n",
              " 2,\n",
              " 0,\n",
              " 1,\n",
              " 1,\n",
              " 3,\n",
              " 3,\n",
              " 2,\n",
              " 2,\n",
              " 3,\n",
              " 2,\n",
              " 0,\n",
              " 2,\n",
              " 2,\n",
              " 1,\n",
              " 3,\n",
              " 2,\n",
              " 3,\n",
              " 3,\n",
              " 0,\n",
              " 3,\n",
              " 1,\n",
              " 1,\n",
              " 3,\n",
              " 3,\n",
              " 2,\n",
              " 3,\n",
              " ...]"
            ]
          },
          "metadata": {
            "tags": []
          },
          "execution_count": 28
        }
      ]
    },
    {
      "cell_type": "code",
      "metadata": {
        "id": "6KgeGJZXIKxM"
      },
      "source": [
        "file1['Cluster'] = cluster"
      ],
      "execution_count": null,
      "outputs": []
    },
    {
      "cell_type": "code",
      "metadata": {
        "colab": {
          "base_uri": "https://localhost:8080/"
        },
        "id": "FLW7hdNsgBel",
        "outputId": "77c5a9c5-ee19-426e-851d-c378d1f2827b"
      },
      "source": [
        "total_count = file1['Type'].value_counts()\r\n",
        "total_count"
      ],
      "execution_count": null,
      "outputs": [
        {
          "output_type": "execute_result",
          "data": {
            "text/plain": [
              "Hospital                   2906\n",
              "FoodIndustry               2905\n",
              "University                 2896\n",
              "PoultryIndustry            2888\n",
              "Handlooms                  2887\n",
              "Residential(Apartments)    2884\n",
              "FertilizerIndustry         2876\n",
              "Supermarket                2874\n",
              "Theatre                    2870\n",
              "Residential(individual)    2867\n",
              "Hostel                     2857\n",
              "ChemicalIndustry           2830\n",
              "Farmers1                   1418\n",
              "Bank                       1410\n",
              "TextileIndustry            1405\n",
              "Farmers2                   1405\n",
              "CementIndustry             1403\n",
              "AutomobileIndustry         1403\n",
              "HealthCareResources        1400\n",
              "BpoIndustry                1397\n",
              "Name: Type, dtype: int64"
            ]
          },
          "metadata": {
            "tags": []
          },
          "execution_count": 26
        }
      ]
    },
    {
      "cell_type": "code",
      "metadata": {
        "colab": {
          "base_uri": "https://localhost:8080/",
          "height": 863
        },
        "id": "oIACDs6lfcCj",
        "outputId": "818ec0a8-5ea6-40fd-d393-c0592b7e5024"
      },
      "source": [
        "plt.figure(figsize=(20,15))\r\n",
        "plt.barh(total_count.keys().values,total_count,height=0.5,color=['green']);"
      ],
      "execution_count": null,
      "outputs": [
        {
          "output_type": "display_data",
          "data": {
            "image/png": "[encoded data removed]",
            "text/plain": [
              "<Figure size 1440x1080 with 1 Axes>"
            ]
          },
          "metadata": {
            "tags": [],
            "needs_background": "light"
          }
        }
      ]
    },
    {
      "cell_type": "code",
      "metadata": {
        "id": "O53Ru2dpKJqF"
      },
      "source": [
        "cluster_0 = file1[file1['Cluster']==0]"
      ],
      "execution_count": null,
      "outputs": []
    },
    {
      "cell_type": "code",
      "metadata": {
        "colab": {
          "base_uri": "https://localhost:8080/"
        },
        "id": "Z3ER2KsKLZx5",
        "outputId": "ab706aba-345e-45ca-9d68-85851ba1a91e"
      },
      "source": [
        "cluster_0.describe"
      ],
      "execution_count": null,
      "outputs": [
        {
          "output_type": "execute_result",
          "data": {
            "text/plain": [
              "<bound method NDFrame.describe of             kVA        kW        Type  Cluster\n",
              "11     0.940152  0.981297        Bank        0\n",
              "15     0.860208  0.671408        Bank        0\n",
              "18     0.695464  0.992786        Bank        0\n",
              "20     0.658742  0.874708        Bank        0\n",
              "22     0.721738  0.631548        Bank        0\n",
              "...         ...       ...         ...      ...\n",
              "45761  0.781747  0.684059  University        0\n",
              "45768  0.906085  0.721175  University        0\n",
              "45769  0.508465  0.569024  University        0\n",
              "45775  0.594639  0.741307  University        0\n",
              "45776  0.815382  0.822821  University        0\n",
              "\n",
              "[11372 rows x 4 columns]>"
            ]
          },
          "metadata": {
            "tags": []
          },
          "execution_count": 45
        }
      ]
    },
    {
      "cell_type": "code",
      "metadata": {
        "colab": {
          "base_uri": "https://localhost:8080/"
        },
        "id": "JPQATbqhhqwz",
        "outputId": "3ad6b536-fae5-4ff0-e4b0-86532b3202fa"
      },
      "source": [
        "cluster0_cnt = np.round(cluster_0['Type'].value_counts(normalize= True)*100,2)\r\n",
        "cluster0_cnt"
      ],
      "execution_count": null,
      "outputs": [
        {
          "output_type": "execute_result",
          "data": {
            "text/plain": [
              "FertilizerIndustry         6.77\n",
              "Hostel                     6.43\n",
              "ChemicalIndustry           6.43\n",
              "Residential(individual)    6.41\n",
              "Residential(Apartments)    6.39\n",
              "University                 6.39\n",
              "Theatre                    6.33\n",
              "Supermarket                6.25\n",
              "FoodIndustry               6.23\n",
              "Hospital                   6.12\n",
              "PoultryIndustry            5.74\n",
              "Handlooms                  5.66\n",
              "CementIndustry             3.27\n",
              "BpoIndustry                3.27\n",
              "Bank                       3.22\n",
              "Farmers1                   3.12\n",
              "TextileIndustry            3.08\n",
              "AutomobileIndustry         3.06\n",
              "Farmers2                   2.94\n",
              "HealthCareResources        2.88\n",
              "Name: Type, dtype: float64"
            ]
          },
          "metadata": {
            "tags": []
          },
          "execution_count": 53
        }
      ]
    },
    {
      "cell_type": "code",
      "metadata": {
        "colab": {
          "base_uri": "https://localhost:8080/",
          "height": 863
        },
        "id": "ERY2he-UimpA",
        "outputId": "1c900b75-7bcb-4aa7-d692-f6a312ef0ffe"
      },
      "source": [
        "plt.figure(figsize=(20,15))\r\n",
        "plt.barh(cluster0_cnt.keys().values,cluster0_cnt,height=0.5,color=['skyblue']);"
      ],
      "execution_count": null,
      "outputs": [
        {
          "output_type": "display_data",
          "data": {
            "image/png": "[encoded data removed]",
            "text/plain": [
              "<Figure size 1440x1080 with 1 Axes>"
            ]
          },
          "metadata": {
            "tags": [],
            "needs_background": "light"
          }
        }
      ]
    },
    {
      "cell_type": "code",
      "metadata": {
        "colab": {
          "base_uri": "https://localhost:8080/"
        },
        "id": "EuvLdQ4bK1aZ",
        "outputId": "dcf1d044-5aca-45eb-e3d8-1028dcb073c2"
      },
      "source": [
        "cluster_1 = file1[file1['Cluster']==1]\r\n",
        "cluster_1.info"
      ],
      "execution_count": null,
      "outputs": [
        {
          "output_type": "execute_result",
          "data": {
            "text/plain": [
              "<bound method DataFrame.info of             kVA        kW        Type  Cluster\n",
              "1      0.129804  0.088930        Bank        1\n",
              "5      0.164029  0.038168        Bank        1\n",
              "17     0.107628  0.309156        Bank        1\n",
              "25     0.171748  0.085911        Bank        1\n",
              "27     0.259692  0.051687        Bank        1\n",
              "...         ...       ...         ...      ...\n",
              "45733  0.019176  0.100645  University        1\n",
              "45746  0.155685  0.062193  University        1\n",
              "45759  0.031560  0.069771  University        1\n",
              "45766  0.219228  0.068273  University        1\n",
              "45772  0.131527  0.119815  University        1\n",
              "\n",
              "[5012 rows x 4 columns]>"
            ]
          },
          "metadata": {
            "tags": []
          },
          "execution_count": 47
        }
      ]
    },
    {
      "cell_type": "code",
      "metadata": {
        "colab": {
          "base_uri": "https://localhost:8080/"
        },
        "id": "YP6CXSGIjMHy",
        "outputId": "a028b825-1b2f-4586-a1ee-1f23d66552af"
      },
      "source": [
        "cluster1_cnt = np.round(cluster_1['Type'].value_counts(normalize= True)*100,2)\r\n",
        "cluster1_cnt"
      ],
      "execution_count": null,
      "outputs": [
        {
          "output_type": "execute_result",
          "data": {
            "text/plain": [
              "Handlooms                  6.74\n",
              "FertilizerIndustry         6.72\n",
              "Residential(Apartments)    6.66\n",
              "University                 6.52\n",
              "Supermarket                6.38\n",
              "Theatre                    6.28\n",
              "FoodIndustry               6.23\n",
              "PoultryIndustry            6.17\n",
              "Hostel                     6.15\n",
              "Hospital                   6.09\n",
              "ChemicalIndustry           6.07\n",
              "Residential(individual)    5.81\n",
              "TextileIndustry            3.29\n",
              "AutomobileIndustry         3.27\n",
              "Farmers1                   3.19\n",
              "Bank                       3.09\n",
              "Farmers2                   2.97\n",
              "HealthCareResources        2.91\n",
              "CementIndustry             2.75\n",
              "BpoIndustry                2.69\n",
              "Name: Type, dtype: float64"
            ]
          },
          "metadata": {
            "tags": []
          },
          "execution_count": 48
        }
      ]
    },
    {
      "cell_type": "code",
      "metadata": {
        "colab": {
          "base_uri": "https://localhost:8080/",
          "height": 613
        },
        "id": "EYG-SLtPjEtj",
        "outputId": "95852dfb-33bf-4954-d1c1-1f2933e7e128"
      },
      "source": [
        "plt.pie(cluster1_cnt.values,radius = 3,labels=cluster1_cnt.keys().values,shadow=True,\r\n",
        "        autopct='%.1f%%',startangle = 90);"
      ],
      "execution_count": null,
      "outputs": [
        {
          "output_type": "display_data",
          "data": {
            "image/png": "[encoded data removed]",
            "text/plain": [
              "<Figure size 432x288 with 1 Axes>"
            ]
          },
          "metadata": {
            "tags": []
          }
        }
      ]
    },
    {
      "cell_type": "code",
      "metadata": {
        "id": "oi1wkNlbK0_g"
      },
      "source": [
        "cluster_2 = file1[file1['Cluster']==2]"
      ],
      "execution_count": null,
      "outputs": []
    },
    {
      "cell_type": "code",
      "metadata": {
        "colab": {
          "base_uri": "https://localhost:8080/"
        },
        "id": "Ft1kEEXWj9Ix",
        "outputId": "e474badd-b31a-4438-fcff-ba8f2b272cdc"
      },
      "source": [
        "cluster2_cnt = np.round(cluster_2['Type'].value_counts(normalize= True)*100,2)\r\n",
        "cluster2_cnt"
      ],
      "execution_count": null,
      "outputs": [
        {
          "output_type": "execute_result",
          "data": {
            "text/plain": [
              "University                 6.77\n",
              "Handlooms                  6.73\n",
              "FoodIndustry               6.68\n",
              "Hospital                   6.50\n",
              "ChemicalIndustry           6.37\n",
              "FertilizerIndustry         6.29\n",
              "Residential(Apartments)    6.25\n",
              "PoultryIndustry            6.22\n",
              "Residential(individual)    6.16\n",
              "Supermarket                6.08\n",
              "Theatre                    6.04\n",
              "Hostel                     5.85\n",
              "Farmers1                   3.31\n",
              "BpoIndustry                3.23\n",
              "TextileIndustry            3.23\n",
              "Farmers2                   3.06\n",
              "Bank                       3.00\n",
              "AutomobileIndustry         2.85\n",
              "CementIndustry             2.68\n",
              "HealthCareResources        2.68\n",
              "Name: Type, dtype: float64"
            ]
          },
          "metadata": {
            "tags": []
          },
          "execution_count": 57
        }
      ]
    },
    {
      "cell_type": "code",
      "metadata": {
        "colab": {
          "base_uri": "https://localhost:8080/",
          "height": 613
        },
        "id": "SRNfSkSXkGBD",
        "outputId": "b433dbb4-f3f7-4d6f-8753-8501985a03be"
      },
      "source": [
        "plt.pie(cluster2_cnt.values,radius = 3,labels=cluster2_cnt.keys().values,shadow=True,\r\n",
        "        autopct='%.1f%%',startangle = 90);"
      ],
      "execution_count": null,
      "outputs": [
        {
          "output_type": "display_data",
          "data": {
            "image/png": "[encoded data removed]",
            "text/plain": [
              "<Figure size 432x288 with 1 Axes>"
            ]
          },
          "metadata": {
            "tags": []
          }
        }
      ]
    },
    {
      "cell_type": "code",
      "metadata": {
        "colab": {
          "base_uri": "https://localhost:8080/"
        },
        "id": "QPK7DVSHKz-X",
        "outputId": "fc130d30-d3b4-4f02-d87a-5bd6a94dec74"
      },
      "source": [
        "cluster_3 = file1[file1['Cluster']==3]\r\n",
        "cluster_3.value_counts()"
      ],
      "execution_count": null,
      "outputs": [
        {
          "output_type": "execute_result",
          "data": {
            "text/plain": [
              "kVA       kW        Type                     Cluster\n",
              "0.335649  0.685433  BpoIndustry              3          1\n",
              "0.112293  0.701974  Supermarket              3          1\n",
              "0.111764  0.823016  Supermarket              3          1\n",
              "0.111778  0.896414  University               3          1\n",
              "0.111866  0.756798  Residential(Apartments)  3          1\n",
              "                                                       ..\n",
              "0.221745  0.842522  TextileIndustry          3          1\n",
              "0.221902  0.703989  Theatre                  3          1\n",
              "0.221943  0.785199  ChemicalIndustry         3          1\n",
              "0.222009  0.962374  HealthCareResources      3          1\n",
              "0.000005  0.815392  FoodIndustry             3          1\n",
              "Length: 5107, dtype: int64"
            ]
          },
          "metadata": {
            "tags": []
          },
          "execution_count": 60
        }
      ]
    },
    {
      "cell_type": "code",
      "metadata": {
        "colab": {
          "base_uri": "https://localhost:8080/"
        },
        "id": "G4fpE7deKQpb",
        "outputId": "550dd8c5-5336-460c-c087-e78d061927bd"
      },
      "source": [
        "cluster3_cnt = np.round(cluster_3['Type'].value_counts(normalize= True)*100,2)\r\n",
        "cluster3_cnt"
      ],
      "execution_count": null,
      "outputs": [
        {
          "output_type": "execute_result",
          "data": {
            "text/plain": [
              "Theatre                    6.72\n",
              "Supermarket                6.58\n",
              "Hospital                   6.48\n",
              "PoultryIndustry            6.42\n",
              "Residential(individual)    6.32\n",
              "FertilizerIndustry         6.29\n",
              "FoodIndustry               6.27\n",
              "Handlooms                  6.11\n",
              "Residential(Apartments)    6.09\n",
              "University                 6.03\n",
              "Hostel                     6.01\n",
              "ChemicalIndustry           5.87\n",
              "Farmers2                   3.68\n",
              "BpoIndustry                3.23\n",
              "AutomobileIndustry         3.17\n",
              "Bank                       3.09\n",
              "HealthCareResources        2.98\n",
              "CementIndustry             2.98\n",
              "Farmers1                   2.96\n",
              "TextileIndustry            2.72\n",
              "Name: Type, dtype: float64"
            ]
          },
          "metadata": {
            "tags": []
          },
          "execution_count": 61
        }
      ]
    },
    {
      "cell_type": "code",
      "metadata": {
        "colab": {
          "base_uri": "https://localhost:8080/",
          "height": 612
        },
        "id": "yRjaycViqm4S",
        "outputId": "433488f8-b3b0-4a34-95bc-348dfbad0a6d"
      },
      "source": [
        "plt.pie(cluster3_cnt.values,radius = 3,labels=cluster3_cnt.keys().values,shadow=True,\r\n",
        "        autopct='%.1f%%',startangle = 90);"
      ],
      "execution_count": null,
      "outputs": [
        {
          "output_type": "display_data",
          "data": {
            "image/png": "[encoded data removed]",
            "text/plain": [
              "<Figure size 432x288 with 1 Axes>"
            ]
          },
          "metadata": {
            "tags": []
          }
        }
      ]
    },
    {
      "cell_type": "code",
      "metadata": {
        "id": "tqOc1akGquV4"
      },
      "source": [
        ""
      ],
      "execution_count": null,
      "outputs": []
    }
  ]
}